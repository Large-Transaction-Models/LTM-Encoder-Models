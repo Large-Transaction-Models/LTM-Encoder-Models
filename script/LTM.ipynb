{
 "cells": [
  {
   "cell_type": "code",
   "execution_count": 33,
   "id": "4b242e78-a783-45da-a405-e723dc7b49ae",
   "metadata": {},
   "outputs": [],
   "source": [
    "from openai import OpenAI\n",
    "import pandas as pd\n",
    "import pyreadr"
   ]
  },
  {
   "cell_type": "code",
   "execution_count": 34,
   "id": "3e621b45-dcb1-43b5-9028-c62a89c2f982",
   "metadata": {},
   "outputs": [
    {
     "name": "stderr",
     "output_type": "stream",
     "text": [
      "/tmp/ipykernel_424587/3387043612.py:7: DtypeWarning: Columns (11,12,13,14,16,20,21) have mixed types. Specify dtype option on import or set low_memory=False.\n",
      "  df = pd.read_csv(file_path)\n"
     ]
    },
    {
     "name": "stdout",
     "output_type": "stream",
     "text": [
      "   rowNumber                                        user  timestamp  \\\n",
      "0          0  0x0000000000000000000000000000000000000001  21.209975   \n",
      "1          1  0x0000000000000000000000000000000000000001  21.228536   \n",
      "2          2  0x000000000000000000000000000000000000dead  21.201968   \n",
      "3          3  0x000000000000000000000000000000000000dead  21.209480   \n",
      "4          4  0x000000000000000000000000000000000000dead  21.228138   \n",
      "\n",
      "                                                  id        type  \\\n",
      "0  0x3fec3516c8085e089d408562dd3f9ca1bbbc5b0eb4ea...  collateral   \n",
      "1  0x452f5f9b8d503f395a1db08a2bd8f3af937d401d5358...  collateral   \n",
      "2  0x59a33c72e045d762a069ddfe10540ddc1b521cbd27e1...  collateral   \n",
      "3  0x3c07de24894604a8e9fd36be5eda98a8f9fdad794536...  collateral   \n",
      "4  0x090c9fb05186afb08a0e311160409f24b5aa33de8ea1...  collateral   \n",
      "\n",
      "                                         pool reserve  amount  amountUSD  \\\n",
      "0  0xb53c1a33016b2dc2ff3653530bff1848a515c8c5     DAI     NaN        NaN   \n",
      "1  0xb53c1a33016b2dc2ff3653530bff1848a515c8c5   STETH     NaN        NaN   \n",
      "2  0xb53c1a33016b2dc2ff3653530bff1848a515c8c5    WETH     NaN        NaN   \n",
      "3  0xb53c1a33016b2dc2ff3653530bff1848a515c8c5    USDT     NaN        NaN   \n",
      "4  0xb53c1a33016b2dc2ff3653530bff1848a515c8c5   STETH     NaN        NaN   \n",
      "\n",
      "   amountETH  ...  cosDayOfMonth sinDayOfQuarter cosDayOfQuarter sinDayOfYear  \\\n",
      "0        NaN  ...            NaN       -0.000149             NaN          NaN   \n",
      "1        NaN  ...            NaN       -0.373148       -0.321340          NaN   \n",
      "2        NaN  ...            NaN             NaN             NaN    -0.234526   \n",
      "3        NaN  ...            NaN       -0.246116       -0.472423          NaN   \n",
      "4        NaN  ...      -0.090422       -1.581531       -0.021608          NaN   \n",
      "\n",
      "  cosDayOfYear  sinQuarter cosQuarter  isWeekend  timeFeature  Year  \n",
      "0          NaN         NaN        NaN      False       336261  2021  \n",
      "1          NaN         NaN        NaN       True       844250  2022  \n",
      "2    -0.491209         0.0 -37.331856      False       119994  2021  \n",
      "3          NaN         NaN        NaN      False       322839  2021  \n",
      "4          NaN         NaN        NaN       True       833253  2022  \n",
      "\n",
      "[5 rows x 128 columns]\n"
     ]
    }
   ],
   "source": [
    "client = OpenAI(\n",
    "    # defaults to os.environ.get(\"OPENAI_API_KEY\")\n",
    "    api_key=\"\",\n",
    ")\n",
    "\n",
    "file_path = \"/data/IDEA_DeFi_Research/LTM/Data/Lending_Protocols/Aave/V2/Mainnet/transactions_user_market_time_train.csv\"\n",
    "df = pd.read_csv(file_path)\n",
    "print(df.head())"
   ]
  },
  {
   "cell_type": "code",
   "execution_count": 4,
   "id": "354534b6-4475-4a13-bb7d-feec74ceff8c",
   "metadata": {},
   "outputs": [],
   "source": [
    "# df = list(df.values())[0]  \n",
    "# print(df.head())"
   ]
  },
  {
   "cell_type": "code",
   "execution_count": null,
   "id": "9520f679-3697-4889-a9ad-5391676d4fa2",
   "metadata": {},
   "outputs": [],
   "source": []
  },
  {
   "cell_type": "code",
   "execution_count": 5,
   "id": "89e2a842-d023-4cf0-8079-422bf05214c0",
   "metadata": {},
   "outputs": [],
   "source": [
    "# recent_transactions = df[df['user'] == '0xdcd33426ba191383f1c9b431a342498fdac73488'].nlargest(10, 'timestamp')"
   ]
  },
  {
   "cell_type": "code",
   "execution_count": 6,
   "id": "b1984a7c-e70e-4e23-915e-ead5aa0f4293",
   "metadata": {},
   "outputs": [],
   "source": [
    "# print(recent_transactions)"
   ]
  },
  {
   "cell_type": "code",
   "execution_count": 49,
   "id": "d5d8183e-63af-4cbd-ba80-53ef17c1773d",
   "metadata": {},
   "outputs": [],
   "source": [
    "query = \"Get userID(0xdcd33426ba191383f1c9b431a342498fdac73488)'s recent 10 transactions\" "
   ]
  },
  {
   "cell_type": "code",
   "execution_count": 50,
   "id": "591c736f-78a7-40b0-9945-cebbb7455dee",
   "metadata": {},
   "outputs": [],
   "source": [
    "# date\n",
    "\n",
    "def get_triage_response(query):\n",
    "    system_prompt = (\n",
    "        \"Write Python code to extract relevant transactions based on the query. \"\n",
    "        \"Only return raw Python code without any markdown formatting, no triple backticks, \"\n",
    "        \"The dataset is available as a DataFrame named 'df'. \"\n",
    "        \"The DataFrame has the following columns: ['rowNumber', 'user', 'timestamp', 'id', 'type', 'pool', 'reserve', 'amount', 'amountUSD', 'amountETH', 'borrowRate', 'borrowRateMode', 'fromState', 'toState', 'liquidator', 'collateralAmount', 'collateralReserve', 'collateralAmountUSD', 'collateralAmountETH', 'priceInUSD', 'borrowRateModeTo', 'borrowRateModeFrom', 'stableBorrowRate', 'variableBorrowRate', 'coinType', 'userReserveMode', 'userCoinTypeMode', 'userIsNew', 'userSecondsSinceFirstTransaction', 'userSecondsSincePreviousTransaction', 'userCollateralCount', 'userDepositCount', 'userDepositSum', 'userDepositAvgAmount', 'userDepositSumUSD', 'userDepositAvgAmountUSD', 'userDepositSumETH', 'userDepositAvgAmountETH', 'userWithdrawCount', 'userWithdrawSum', 'userWithdrawAvgAmount', 'userWithdrawSumUSD', 'userWithdrawAvgAmountUSD', 'userWithdrawSumETH', 'userWithdrawAvgAmountETH', 'userBorrowCount', 'userBorrowSum', 'userBorrowAvgAmount', 'userBorrowSumUSD', 'userBorrowAvgAmountUSD', 'userBorrowSumETH', 'userBorrowAvgAmountETH', 'userRepayCount', 'userRepaySum', 'userRepayAvgAmount', 'userRepaySumUSD', 'userRepayAvgAmountUSD', 'userRepaySumETH', 'userRepayAvgAmountETH', 'userSwapCount', 'userLiquidationCount', 'userLiquidationSum', 'userLiquidationAvgAmount', 'userLiquidationSumUSD', 'userLiquidationAvgAmountUSD', 'userLiquidationSumETH', 'userLiquidationAvgAmountETH', 'userActiveDaysWeekly', 'userActiveDaysMonthly', 'userActiveDaysYearly', 'marketCollateralCount', 'marketDepositCount', 'marketDepositAvgAmount', 'marketDepositSum', 'marketDepositAvgAmountUSD', 'marketDepositSumUSD', 'marketDepositAvgAmountETH', 'marketDepositSumETH', 'marketWithdrawCount', 'marketWithdrawAvgAmount', 'marketWithdrawSum', 'marketWithdrawAvgAmountUSD', 'marketWithdrawSumUSD', 'marketWithdrawAvgAmountETH', 'marketWithdrawSumETH', 'marketBorrowCount', 'marketBorrowAvgAmount', 'marketBorrowSum', 'marketBorrowAvgAmountUSD', 'marketBorrowSumUSD', 'marketBorrowAvgAmountETH', 'marketBorrowSumETH', 'marketRepayCount', 'marketRepayAvgAmount', 'marketRepaySum', 'marketRepayAvgAmountUSD', 'marketRepaySumUSD', 'marketRepayAvgAmountETH', 'marketRepaySumETH', 'marketSwapCount', 'marketLiquidationCount', 'marketLiquidationAvgAmount', 'marketLiquidationSum', 'marketLiquidationAvgAmountUSD', 'marketLiquidationSumUSD', 'marketLiquidationAvgAmountETH', 'marketLiquidationSumETH', 'timeOfDay', 'dayOfWeek', 'dayOfMonth', 'dayOfYear', 'quarter', 'dayOfQuarter', 'sinTimeOfDay', 'cosTimeOfDay', 'sinDayOfWeek', 'cosDayOfWeek', 'sinDayOfMonth', 'cosDayOfMonth', 'sinDayOfQuarter', 'cosDayOfQuarter', 'sinDayOfYear', 'cosDayOfYear', 'sinQuarter', 'cosQuarter', 'isWeekend', 'timeFeature', 'Year'] \"\n",
    "        \"The First Row of df has the following values: 0, '0x0000000000000000000000000000000000000001', 21.209975140498678, '0x3fec3516c8085e089d408562dd3f9ca1bbbc5b0eb4eaf20dc1acca3d5467ff57', 'collateral', '0xb53c1a33016b2dc2ff3653530bff1848a515c8c5', 'DAI', nan, nan, nan, nan, nan, False, True, nan, nan, nan, nan, nan, nan, nan, nan, nan, nan, 'Stable', 'DAI', 'Stable', True, nan, nan, 0.0, nan, nan, nan, nan, nan, nan, nan, nan, nan, nan, nan, nan, nan, nan, nan, nan, nan, nan, nan, nan, nan, nan, nan, nan, nan, nan, nan, nan, nan, nan, nan, nan, nan, nan, nan, nan, 0.0, 0.0, 0.0, 10.49069071389983, 10.28496729789378, 12.101352452771916, 22.3863197506657, 13.17760610353781, 23.46257340143159, 5.577411403618443, 15.862378701512224, 9.838735675306433, 12.33395594570726, 22.17269162101369, 13.465166440159464, 23.303902115465892, 5.857886301137982, 15.696621976444412, 9.404508151053818, 12.64468975333269, 22.04919790438651, 12.782599855726868, 22.187108006780687, 5.174872902824951, 14.57938105387877, 9.086815885690685, 12.741968827975697, 21.82878471366638, 12.927282432510582, 22.014098318201267, 5.315983907061722, 14.402799792752408, 4.553876891600541, 6.784457062637643, 9.85100484433986, 16.635461906977504, 9.8998075053775, 16.68426456801514, 2.3806911293081656, 9.165148191945809, 2.021952190733302, 4.0, 22.0, 203.0, 3, 23.0, -0.0850404364295141, nan, nan, nan, nan, nan, -0.0001489870571709, nan, nan, nan, nan, nan, False, 336261, 2021\"\n",
    "        \"Please figure out which values need to be capitalize and which don't need to, So pay attentaion to it when you writing the code\"\n",
    "        \"The user ID is stored in the 'user' column of the dataset. \"\n",
    "        \"When writing code to filter rows, always define a variable `temp_df` as a subset of the original DataFrame. \"\n",
    "        \"User ID is store in column 'user'\"\n",
    "        \"For example, use: temp_df[df['user'] == 'some_value']. \"\n",
    "        \"Do not modify 'df' directly. \"\n",
    "        \"Write code that finds the transaction history for the given user ID in the temporary DataFrame, \"\n",
    "        \"Ensure all variables like `temp_df` and `recent_transactions` are properly defined before use.\"\n",
    "        \"Ensure the spelling of all variable names is consistent and correct.\"\n",
    "        \"Return this result as recent_transactions.\"\n",
    "        \"You need to return all the columns, do not remove any columns from the temp_df\"\n",
    "        \"'timeOfDay' is the time in that day, 'dayOfWeek' is the day of that week, 'dayOfMonth' is the day of that month, 'dayOfYear' is the day in that year. so use these value to filter the transactions, don't use quarter\"\n",
    "        \n",
    "    )\n",
    "    response = client.chat.completions.create(\n",
    "        model=\"gpt-4o\",\n",
    "        messages=[\n",
    "            {\"role\": \"system\", \"content\": system_prompt},\n",
    "            {\"role\": \"user\", \"content\": query}\n",
    "        ]\n",
    "    )\n",
    "    # return response.choices[0].message.content\n",
    "    raw_code =  response.choices[0].message.content\n",
    "    clean_code = raw_code.strip().strip(\"```python\").strip(\"```\")\n",
    "    return raw_code"
   ]
  },
  {
   "cell_type": "code",
   "execution_count": 51,
   "id": "2a4d0929-31e2-4d86-bacc-eaa26432ed6b",
   "metadata": {},
   "outputs": [],
   "source": [
    "query_code = get_triage_response(query)"
   ]
  },
  {
   "cell_type": "code",
   "execution_count": 52,
   "id": "7cf390b7-6acc-46ce-846f-fc0efc38f00e",
   "metadata": {},
   "outputs": [
    {
     "name": "stdout",
     "output_type": "stream",
     "text": [
      "temp_df = df[df['user'] == '0xdcd33426ba191383f1c9b431a342498fdac73488']\n",
      "recent_transactions = temp_df.sort_values(by='timestamp', ascending=False).head(10)\n"
     ]
    }
   ],
   "source": [
    "print(query_code)"
   ]
  },
  {
   "cell_type": "code",
   "execution_count": 53,
   "id": "e5515a7a-18d2-478c-ac41-e904d36e8b23",
   "metadata": {},
   "outputs": [],
   "source": [
    "def execute_query_code(query_code, dataframe):\n",
    "    local_vars = {\"df\": dataframe}\n",
    "    print(\"Generated Query Code:\\n\", query_code)  \n",
    "    \n",
    "    try:\n",
    "        exec(query_code, {}, local_vars)\n",
    "    except Exception as e:\n",
    "        print(f\"Error during execution: {e}\")\n",
    "        return None\n",
    "    \n",
    "    transactions = local_vars.get(\"recent_transactions\")\n",
    "    print(\"\\nTransactions Output:\")\n",
    "    \n",
    "    return transactions\n"
   ]
  },
  {
   "cell_type": "code",
   "execution_count": 54,
   "id": "be6155e9-7272-4cd4-b4ac-6224db258d22",
   "metadata": {},
   "outputs": [
    {
     "name": "stdout",
     "output_type": "stream",
     "text": [
      "Generated Query Code:\n",
      " temp_df = df[df['user'] == '0xdcd33426ba191383f1c9b431a342498fdac73488']\n",
      "recent_transactions = temp_df.sort_values(by='timestamp', ascending=False).head(10)\n",
      "\n",
      "Transactions Output:\n",
      "         rowNumber                                        user  timestamp  \\\n",
      "1601165    1646433  0xdcd33426ba191383f1c9b431a342498fdac73488  21.255945   \n",
      "1601164    1646432  0xdcd33426ba191383f1c9b431a342498fdac73488  21.255945   \n",
      "1601163    1646431  0xdcd33426ba191383f1c9b431a342498fdac73488  21.255945   \n",
      "1601162    1646430  0xdcd33426ba191383f1c9b431a342498fdac73488  21.253872   \n",
      "1601161    1646429  0xdcd33426ba191383f1c9b431a342498fdac73488  21.253872   \n",
      "1601160    1646428  0xdcd33426ba191383f1c9b431a342498fdac73488  21.253872   \n",
      "1601159    1646427  0xdcd33426ba191383f1c9b431a342498fdac73488  21.253242   \n",
      "1601158    1646426  0xdcd33426ba191383f1c9b431a342498fdac73488  21.253242   \n",
      "1601157    1646425  0xdcd33426ba191383f1c9b431a342498fdac73488  21.253242   \n",
      "1601156    1646424  0xdcd33426ba191383f1c9b431a342498fdac73488  21.253202   \n",
      "\n",
      "                                                        id        type  \\\n",
      "1601165  0x76c1f0b78a085a8448c20090ceb232cca109de6b72e9...    withdraw   \n",
      "1601164  0x76c1f0b78a085a8448c20090ceb232cca109de6b72e9...  collateral   \n",
      "1601163  0x76c1f0b78a085a8448c20090ceb232cca109de6b72e9...  collateral   \n",
      "1601162  0x195d8123913986aa07ed8dd34963a3db3b78eaee2505...    withdraw   \n",
      "1601161  0x195d8123913986aa07ed8dd34963a3db3b78eaee2505...  collateral   \n",
      "1601160  0x195d8123913986aa07ed8dd34963a3db3b78eaee2505...  collateral   \n",
      "1601159  0x7d0b7218eb3f27aa777b94ac9e99d0a258701cb1c954...    withdraw   \n",
      "1601158  0x7d0b7218eb3f27aa777b94ac9e99d0a258701cb1c954...  collateral   \n",
      "1601157  0x7d0b7218eb3f27aa777b94ac9e99d0a258701cb1c954...  collateral   \n",
      "1601156  0xbdb91495adfff0fd7de4bd7b62bfc377401d10b21443...    withdraw   \n",
      "\n",
      "                                               pool reserve    amount  \\\n",
      "1601165  0xb53c1a33016b2dc2ff3653530bff1848a515c8c5    WETH -2.635110   \n",
      "1601164  0xb53c1a33016b2dc2ff3653530bff1848a515c8c5    WETH       NaN   \n",
      "1601163  0xb53c1a33016b2dc2ff3653530bff1848a515c8c5    WETH       NaN   \n",
      "1601162  0xb53c1a33016b2dc2ff3653530bff1848a515c8c5    WETH  0.970987   \n",
      "1601161  0xb53c1a33016b2dc2ff3653530bff1848a515c8c5    WETH       NaN   \n",
      "1601160  0xb53c1a33016b2dc2ff3653530bff1848a515c8c5    WETH       NaN   \n",
      "1601159  0xb53c1a33016b2dc2ff3653530bff1848a515c8c5    WETH  6.396930   \n",
      "1601158  0xb53c1a33016b2dc2ff3653530bff1848a515c8c5    WETH       NaN   \n",
      "1601157  0xb53c1a33016b2dc2ff3653530bff1848a515c8c5    WETH       NaN   \n",
      "1601156  0xb53c1a33016b2dc2ff3653530bff1848a515c8c5    WETH  1.791759   \n",
      "\n",
      "         amountUSD  amountETH  ...  cosDayOfMonth sinDayOfQuarter  \\\n",
      "1601165   5.098238  -2.635110  ...      -0.693147             NaN   \n",
      "1601164        NaN        NaN  ...      -0.693147             NaN   \n",
      "1601163        NaN        NaN  ...      -0.693147             NaN   \n",
      "1601162   8.589222   0.970987  ...            NaN             NaN   \n",
      "1601161        NaN        NaN  ...            NaN             NaN   \n",
      "1601160        NaN        NaN  ...            NaN             NaN   \n",
      "1601159  13.923863   6.396930  ...      -0.022095       -0.274641   \n",
      "1601158        NaN        NaN  ...      -0.022095       -0.274641   \n",
      "1601157        NaN        NaN  ...      -0.022095       -0.274641   \n",
      "1601156   9.288856   1.791759  ...      -0.022095       -0.274641   \n",
      "\n",
      "        cosDayOfQuarter sinDayOfYear cosDayOfYear  sinQuarter cosQuarter  \\\n",
      "1601165       -0.038634          NaN    -0.005343         NaN        0.0   \n",
      "1601164       -0.038634          NaN    -0.005343         NaN        0.0   \n",
      "1601163       -0.038634          NaN    -0.005343         NaN        0.0   \n",
      "1601162             NaN          NaN    -0.370812         NaN        0.0   \n",
      "1601161             NaN          NaN    -0.370812         NaN        0.0   \n",
      "1601160             NaN          NaN    -0.370812         NaN        0.0   \n",
      "1601159             NaN          NaN    -0.668706         NaN        0.0   \n",
      "1601158             NaN          NaN    -0.668706         NaN        0.0   \n",
      "1601157             NaN          NaN    -0.668706         NaN        0.0   \n",
      "1601156             NaN          NaN    -0.668706         NaN        0.0   \n",
      "\n",
      "         isWeekend  timeFeature  Year  \n",
      "1601165      False      1611861  2023  \n",
      "1601164      False      1611861  2023  \n",
      "1601163      False      1611861  2023  \n",
      "1601162      False      1553062  2023  \n",
      "1601161      False      1553062  2023  \n",
      "1601160      False      1553062  2023  \n",
      "1601159      False      1535238  2023  \n",
      "1601158      False      1535238  2023  \n",
      "1601157      False      1535238  2023  \n",
      "1601156      False      1534101  2023  \n",
      "\n",
      "[10 rows x 128 columns]\n"
     ]
    }
   ],
   "source": [
    "t = execute_query_code(query_code,df)\n",
    "print(t)"
   ]
  },
  {
   "cell_type": "code",
   "execution_count": 63,
   "id": "41205221-9f23-4297-ad47-24162ecf545b",
   "metadata": {},
   "outputs": [],
   "source": [
    "# def create_embedding(transactions):\n",
    "#     embedding_prompt = (\"Provide only the embedding values as a single line list without any additional text, labels, or explanation. \"\n",
    "#         \"Do not include any headers, formatting, or extra characters. Strictly return only this list:\\n\" + str(transactions)\n",
    "#     )\n",
    "    \n",
    "#     response = client.chat.completions.create(\n",
    "#         model=\"gpt-4o\",\n",
    "#         messages=[\n",
    "#             {\"role\": \"user\", \"content\": embedding_prompt}\n",
    "#         ]\n",
    "#     )\n",
    "#     embedding =  response.choices[0].message.content\n",
    "import openai\n",
    "\n",
    "def create_embedding(text):\n",
    "    response = client.embeddings.create(\n",
    "        model=\"text-embedding-3-large\", \n",
    "        input=text\n",
    "    )\n",
    "    embedding = response.data[0].embedding  \n",
    "    return embedding\n"
   ]
  },
  {
   "cell_type": "code",
   "execution_count": 65,
   "id": "ce46e0bc-ebf5-47d6-9323-c2eb167155ad",
   "metadata": {},
   "outputs": [],
   "source": [
    "embedding = create_embedding(t)"
   ]
  },
  {
   "cell_type": "code",
   "execution_count": null,
   "id": "0472d404-a9d9-4035-b08c-42983517bb00",
   "metadata": {},
   "outputs": [],
   "source": [
    "def expert_agent(embedding):\n",
    "    prediction_prompt = f\"Based on this embedding: {embedding}, predict the loan repayment timeline.\"\n",
    "    response = openai.ChatCompletion.create(\n",
    "        model=\"gpt-4\",\n",
    "        messages=[\n",
    "            {\"role\": \"user\", \"content\": prediction_prompt}\n",
    "        ]\n",
    "    )\n",
    "    return response[\"choices\"][0][\"message\"][\"content\"]\n"
   ]
  },
  {
   "cell_type": "code",
   "execution_count": null,
   "id": "5e116a25-84d6-4fd9-aba2-2e09db94d650",
   "metadata": {},
   "outputs": [],
   "source": [
    "def get_final_answer(query, prediction):\n",
    "    final_prompt = f\"Format the following prediction: '{prediction}' for the query: '{query}' in natural language.\"\n",
    "    response = openai.ChatCompletion.create(\n",
    "        model=\"gpt-4\",\n",
    "        messages=[\n",
    "            {\"role\": \"user\", \"content\": final_prompt}\n",
    "        ]\n",
    "    )\n",
    "    return response[\"choices\"][0][\"message\"][\"content\"]\n"
   ]
  },
  {
   "cell_type": "code",
   "execution_count": null,
   "id": "18891bd1-8659-47be-8175-1627f2059859",
   "metadata": {},
   "outputs": [],
   "source": [
    "def get_answer(query, dataframe):\n",
    "    query_code = get_triage_response(query)\n",
    "    transactions = execute_query_code(query_code, dataframe)\n",
    "    embedding = create_embedding(transactions)\n",
    "    prediction = expert_agent(embedding)\n",
    "    final_answer = get_final_answer(query, prediction)\n",
    "    return final_answ"
   ]
  },
  {
   "cell_type": "code",
   "execution_count": null,
   "id": "21dbceaf-9d00-4671-87ce-d0741f2780e0",
   "metadata": {},
   "outputs": [],
   "source": [
    "if __name__ == \"__main__\":\n",
    "    data = {\n",
    "        \"loan_id\": [101, 102, 103],\n",
    "        \"amount\": [1000, 1500, 2000],\n",
    "        \"repayment_date\": [\"2025-01-01\", \"2025-02-15\", \"2025-03-10\"]\n",
    "    }\n",
    "    dataframe = pd.DataFrame(data)\n",
    "\n",
    "    query = \"How long will it take for this loan to be repaid? {loanId: 103}\"\n",
    "    answer = get_answer(query, dataframe)\n",
    "    print(answer)\n"
   ]
  }
 ],
 "metadata": {
  "kernelspec": {
   "display_name": "Python3.9",
   "language": "python",
   "name": "new_env"
  },
  "language_info": {
   "codemirror_mode": {
    "name": "ipython",
    "version": 3
   },
   "file_extension": ".py",
   "mimetype": "text/x-python",
   "name": "python",
   "nbconvert_exporter": "python",
   "pygments_lexer": "ipython3",
   "version": "3.9.12"
  }
 },
 "nbformat": 4,
 "nbformat_minor": 5
}

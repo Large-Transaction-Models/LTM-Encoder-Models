{
 "cells": [
  {
   "cell_type": "code",
   "execution_count": 8,
   "id": "13a587e7-f334-4d77-8efe-4fd43be7659e",
   "metadata": {},
   "outputs": [],
   "source": [
    "# edited by Dongyu Zhang\n",
    "from os import makedirs\n",
    "from os.path import join, basename\n",
    "import logging\n",
    "import numpy as np\n",
    "import torch\n",
    "import random\n",
    "from args import define_new_main_parser\n",
    "import json\n",
    "\n",
    "from transformers import Trainer, TrainingArguments, EarlyStoppingCallback\n",
    "\n",
    "from dataset.aave import AaveDataset\n",
    "from dataset.aave_time_static import AaveWithTimePosAndStaticSplitDataset\n",
    "from dataset.aave_time_pos import AaveWithTimePosDataset\n",
    "from dataset.aave_static import AaveWithStaticSplitDataset\n",
    "from models.modules import TabFormerBertLM, TabFormerBertForClassification, TabFormerBertModel, TabStaticFormerBert, \\\n",
    "    TabStaticFormerBertLM, TabStaticFormerBertClassification\n",
    "from misc.utils import ordered_split_dataset, compute_cls_metrics\n",
    "from dataset.datacollator import *\n",
    "from main_aave import main\n",
    "\n",
    "logger = logging.getLogger(__name__)\n",
    "log = logger\n",
    "logging.basicConfig(\n",
    "    format=\"%(asctime)s - %(levelname)s - %(name)s -   %(message)s\",\n",
    "    datefmt=\"%m/%d/%Y %H:%M:%S\",\n",
    "    level=logging.INFO,\n",
    ")\n",
    "\n",
    "import os\n",
    "os.environ[\"WANDB_DISABLED\"] = \"true\""
   ]
  },
  {
   "cell_type": "code",
   "execution_count": 13,
   "id": "cb1d9559-84ff-4f5b-bb3e-c3f932d5e829",
   "metadata": {
    "tags": [
     "parameters"
    ]
   },
   "outputs": [],
   "source": [
    "data=\"\"\n",
    "dt=\"Aave\"\n",
    "time_pos_type=\"regular_position\"\n",
    "fextension=False\n",
    "fname=\"transactionsAave_train\"\n",
    "val_fname=\"transactionsAave_val\"\n",
    "test_fname=\"transactionsAave_test\"\n",
    "preload_fextension=\"preload-test\"\n",
    "bs=32\n",
    "nb=10\n",
    "save_steps=200\n",
    "eval_steps=200\n",
    "pretrained_dir=\"output_aave/final-model\"\n",
    "resample_method=\"downsample\"\n",
    "resample_ratio=10\n",
    "resample_seed=100\n",
    "external_val=False\n",
    "output_dir=\"output\"\n",
    "checkpoint=None\n",
    "seed=9"
   ]
  },
  {
   "cell_type": "code",
   "execution_count": 14,
   "id": "4dc1e6b1-4a01-4565-a2d2-d90d2b9a5260",
   "metadata": {},
   "outputs": [],
   "source": [
    "arg_str = f\"--do_train \\\n",
    "    --do_eval \\\n",
    "    --export_task \\\n",
    "    --long_and_sort \\\n",
    "    --pad_seq_first \\\n",
    "    --get_rids \\\n",
    "    --field_ce \\\n",
    "    --lm_type bert \\\n",
    "    --field_hs 64 \\\n",
    "    --data_type {dt} \\\n",
    "    --stride 5 \\\n",
    "    --data_root ./data/{data}/ \\\n",
    "    --train_batch_size {bs} \\\n",
    "    --eval_batch_size {bs} \\\n",
    "    --save_steps {save_steps} \\\n",
    "    --eval_steps {eval_steps} \\\n",
    "    --nbatches {nb} \\\n",
    "    --data_fname {fname} \\\n",
    "    --data_val_fname {val_fname} \\\n",
    "    --data_test_fname {test_fname} \\\n",
    "    --vocab_cached \\\n",
    "    --user_level_cached \\\n",
    "    --pretrained_dir {pretrained_dir} \\\n",
    "    --output_dir {output_dir} \\\n",
    "    --time_pos_type {time_pos_type} \\\n",
    "    --resample_ratio {resample_ratio} \\\n",
    "    --resample_seed {resample_seed} \\\n",
    "    --seed {seed} \\\n",
    "    \"\n",
    "if fextension:\n",
    "    arg_str += f\"--fextension {fextension} \\\n",
    "    --external_vocab_path ./data/{data}/vocab_ob_{fextension}\"\n",
    "else:\n",
    "    arg_str += f\"--external_vocab_path ./data/{data}/vocab_ob\"\n",
    "if resample_method is not None:\n",
    "    arg_str += f\"\\\n",
    "    --resample_method {resample_method}\"\n",
    "if external_val:\n",
    "    arg_str += f\"\\\n",
    "    --external_val\"\n",
    "if checkpoint is not None:\n",
    "    arg_str += f\"\\\n",
    "    --checkpoint {checkpoint}\""
   ]
  },
  {
   "cell_type": "code",
   "execution_count": 15,
   "id": "0294f34c-4ff1-48ed-a11a-c1954016116f",
   "metadata": {},
   "outputs": [],
   "source": [
    "parser = define_new_main_parser(data_type_choices=[\"Aave\", \"Aave_time_pos\", \"Aave_time_static\", \"Aave_static\"])\n",
    "opts = parser.parse_args(arg_str.split())"
   ]
  },
  {
   "cell_type": "code",
   "execution_count": 16,
   "id": "54d524a2-eea8-463f-aac4-0abc0884bd72",
   "metadata": {},
   "outputs": [
    {
     "name": "stderr",
     "output_type": "stream",
     "text": [
      "11/20/2024 16:02:01 - INFO - dataset.aave_basic -   cached encoded data is read from transactionsAave_train.encoded.csv\n",
      "11/20/2024 16:02:01 - INFO - dataset.aave_basic -   read data : (10000, 42)\n",
      "11/20/2024 16:02:01 - INFO - dataset.aave -   preparing user level data...\n",
      "100%|██████████| 18/18 [00:00<00:00, 52.38it/s]\n",
      "11/20/2024 16:02:01 - INFO - dataset.aave -   creating transaction samples with vocab\n",
      "100%|██████████| 18/18 [00:00<00:00, 111.50it/s]\n",
      "11/20/2024 16:02:02 - INFO - dataset.aave -   ncols: 38\n",
      "11/20/2024 16:02:02 - INFO - dataset.aave -   no of samples 2011\n",
      "11/20/2024 16:02:02 - INFO - dataset.aave_basic -   saving vocab at output/vocab.nb\n",
      "11/20/2024 16:02:02 - INFO - dataset.aave_basic -   saving vocab object at output/vocab_ob\n",
      "11/20/2024 16:02:02 - INFO - main_aave -   vocab size: 335\n",
      "11/20/2024 16:02:02 - INFO - dataset.aave_basic -   cached encoded data is read from transactionsAave_test.encoded.csv\n",
      "11/20/2024 16:02:02 - INFO - dataset.aave_basic -   read data : (1000, 42)\n",
      "11/20/2024 16:02:02 - INFO - dataset.aave -   preparing user level data...\n",
      "100%|██████████| 4/4 [00:00<00:00, 144.69it/s]\n",
      "11/20/2024 16:02:02 - INFO - dataset.aave -   creating transaction samples with vocab\n",
      "100%|██████████| 4/4 [00:00<00:00, 143.15it/s]\n",
      "11/20/2024 16:02:02 - INFO - dataset.aave -   ncols: 38\n",
      "11/20/2024 16:02:02 - INFO - dataset.aave -   no of samples 964\n",
      "11/20/2024 16:02:02 - INFO - dataset.aave_basic -   saving vocab at output/vocab.nb\n",
      "11/20/2024 16:02:02 - INFO - dataset.aave_basic -   saving vocab object at output/vocab_ob\n",
      "11/20/2024 16:02:02 - INFO - main_aave -   # Using external test dataset, lengths: train [971]  valid [971]  test [964]\n",
      "11/20/2024 16:02:02 - INFO - main_aave -   # lengths: train [0.33]  valid [0.33]  test [0.33]\n",
      "/home/changk2/.conda/envs/new_env/lib/python3.9/site-packages/torch/nn/modules/transformer.py:307: UserWarning: enable_nested_tensor is True, but self.use_nested_tensor is False because encoder_layer.self_attn.batch_first was not True(use batch_first for better inference performance)\n",
      "  warnings.warn(f\"enable_nested_tensor is True, but self.use_nested_tensor is False because {why_not_sparsity_fast_path}\")\n",
      "Some weights of TabFormerHierarchicalForPretraining were not initialized from the model checkpoint at output_aave/final-model and are newly initialized: ['tb_model.bert.pooler.dense.bias', 'tb_model.bert.pooler.dense.weight']\n",
      "You should probably TRAIN this model on a down-stream task to be able to use it for predictions and inference.\n",
      "11/20/2024 16:02:02 - INFO - main_aave -   model initiated: <class 'models.modules.TabFormerHierarchicalForPretraining'>\n",
      "11/20/2024 16:02:02 - INFO - main_aave -   collactor class: TransDataCollatorForExtraction\n",
      "/home/changk2/.conda/envs/new_env/lib/python3.9/site-packages/transformers/training_args.py:1545: FutureWarning: `evaluation_strategy` is deprecated and will be removed in version 4.46 of 🤗 Transformers. Use `eval_strategy` instead\n",
      "  warnings.warn(\n",
      "Using the `WANDB_DISABLED` environment variable is deprecated and will be removed in v5. Use the --report_to flag to control the integrations used for logging result (for instance --report_to none).\n"
     ]
    },
    {
     "data": {
      "text/html": [],
      "text/plain": [
       "<IPython.core.display.HTML object>"
      ]
     },
     "metadata": {},
     "output_type": "display_data"
    },
    {
     "name": "stderr",
     "output_type": "stream",
     "text": [
      "11/20/2024 16:02:20 - INFO - main_aave -   row embeds shape: (97, 10, 2432)\n",
      "11/20/2024 16:02:20 - INFO - main_aave -   seq embeds shape: (97, 10, 2432)\n"
     ]
    },
    {
     "name": "stdout",
     "output_type": "stream",
     "text": [
      "saved file output/batch_0_embeddings\n"
     ]
    },
    {
     "data": {
      "text/html": [],
      "text/plain": [
       "<IPython.core.display.HTML object>"
      ]
     },
     "metadata": {},
     "output_type": "display_data"
    },
    {
     "name": "stderr",
     "output_type": "stream",
     "text": [
      "11/20/2024 16:02:41 - INFO - main_aave -   row embeds shape: (97, 10, 2432)\n",
      "11/20/2024 16:02:41 - INFO - main_aave -   seq embeds shape: (97, 10, 2432)\n"
     ]
    },
    {
     "name": "stdout",
     "output_type": "stream",
     "text": [
      "saved file output/batch_1_embeddings\n"
     ]
    },
    {
     "data": {
      "text/html": [],
      "text/plain": [
       "<IPython.core.display.HTML object>"
      ]
     },
     "metadata": {},
     "output_type": "display_data"
    },
    {
     "name": "stderr",
     "output_type": "stream",
     "text": [
      "11/20/2024 16:03:00 - INFO - main_aave -   row embeds shape: (97, 10, 2432)\n",
      "11/20/2024 16:03:00 - INFO - main_aave -   seq embeds shape: (97, 10, 2432)\n"
     ]
    },
    {
     "name": "stdout",
     "output_type": "stream",
     "text": [
      "saved file output/batch_2_embeddings\n"
     ]
    },
    {
     "data": {
      "text/html": [],
      "text/plain": [
       "<IPython.core.display.HTML object>"
      ]
     },
     "metadata": {},
     "output_type": "display_data"
    },
    {
     "name": "stderr",
     "output_type": "stream",
     "text": [
      "11/20/2024 16:03:18 - INFO - main_aave -   row embeds shape: (97, 10, 2432)\n",
      "11/20/2024 16:03:18 - INFO - main_aave -   seq embeds shape: (97, 10, 2432)\n"
     ]
    },
    {
     "name": "stdout",
     "output_type": "stream",
     "text": [
      "saved file output/batch_3_embeddings\n"
     ]
    },
    {
     "data": {
      "text/html": [],
      "text/plain": [
       "<IPython.core.display.HTML object>"
      ]
     },
     "metadata": {},
     "output_type": "display_data"
    },
    {
     "name": "stderr",
     "output_type": "stream",
     "text": [
      "11/20/2024 16:03:37 - INFO - main_aave -   row embeds shape: (97, 10, 2432)\n",
      "11/20/2024 16:03:37 - INFO - main_aave -   seq embeds shape: (97, 10, 2432)\n"
     ]
    },
    {
     "name": "stdout",
     "output_type": "stream",
     "text": [
      "saved file output/batch_4_embeddings\n"
     ]
    },
    {
     "data": {
      "text/html": [],
      "text/plain": [
       "<IPython.core.display.HTML object>"
      ]
     },
     "metadata": {},
     "output_type": "display_data"
    },
    {
     "name": "stderr",
     "output_type": "stream",
     "text": [
      "11/20/2024 16:03:57 - INFO - main_aave -   row embeds shape: (97, 10, 2432)\n",
      "11/20/2024 16:03:57 - INFO - main_aave -   seq embeds shape: (97, 10, 2432)\n"
     ]
    },
    {
     "name": "stdout",
     "output_type": "stream",
     "text": [
      "saved file output/batch_5_embeddings\n"
     ]
    },
    {
     "data": {
      "text/html": [],
      "text/plain": [
       "<IPython.core.display.HTML object>"
      ]
     },
     "metadata": {},
     "output_type": "display_data"
    },
    {
     "name": "stderr",
     "output_type": "stream",
     "text": [
      "11/20/2024 16:04:16 - INFO - main_aave -   row embeds shape: (97, 10, 2432)\n",
      "11/20/2024 16:04:16 - INFO - main_aave -   seq embeds shape: (97, 10, 2432)\n"
     ]
    },
    {
     "name": "stdout",
     "output_type": "stream",
     "text": [
      "saved file output/batch_6_embeddings\n"
     ]
    },
    {
     "data": {
      "text/html": [],
      "text/plain": [
       "<IPython.core.display.HTML object>"
      ]
     },
     "metadata": {},
     "output_type": "display_data"
    },
    {
     "name": "stderr",
     "output_type": "stream",
     "text": [
      "11/20/2024 16:04:35 - INFO - main_aave -   row embeds shape: (97, 10, 2432)\n",
      "11/20/2024 16:04:35 - INFO - main_aave -   seq embeds shape: (97, 10, 2432)\n"
     ]
    },
    {
     "name": "stdout",
     "output_type": "stream",
     "text": [
      "saved file output/batch_7_embeddings\n"
     ]
    },
    {
     "data": {
      "text/html": [],
      "text/plain": [
       "<IPython.core.display.HTML object>"
      ]
     },
     "metadata": {},
     "output_type": "display_data"
    },
    {
     "name": "stderr",
     "output_type": "stream",
     "text": [
      "11/20/2024 16:04:54 - INFO - main_aave -   row embeds shape: (97, 10, 2432)\n",
      "11/20/2024 16:04:54 - INFO - main_aave -   seq embeds shape: (97, 10, 2432)\n"
     ]
    },
    {
     "name": "stdout",
     "output_type": "stream",
     "text": [
      "saved file output/batch_8_embeddings\n"
     ]
    },
    {
     "data": {
      "text/html": [],
      "text/plain": [
       "<IPython.core.display.HTML object>"
      ]
     },
     "metadata": {},
     "output_type": "display_data"
    },
    {
     "name": "stderr",
     "output_type": "stream",
     "text": [
      "11/20/2024 16:05:15 - INFO - main_aave -   row embeds shape: (98, 10, 2432)\n",
      "11/20/2024 16:05:15 - INFO - main_aave -   seq embeds shape: (98, 10, 2432)\n"
     ]
    },
    {
     "name": "stdout",
     "output_type": "stream",
     "text": [
      "saved file output/batch_9_embeddings\n"
     ]
    }
   ],
   "source": [
    "opts.log_dir = join(opts.output_dir, \"logs\")\n",
    "makedirs(opts.output_dir, exist_ok=True)\n",
    "makedirs(opts.log_dir, exist_ok=True)\n",
    "\n",
    "file_handler = logging.FileHandler(\n",
    "    join(opts.log_dir, 'output.log'), 'w', 'utf-8')\n",
    "logger.addHandler(file_handler)\n",
    "\n",
    "opts.cls_exp_task = opts.cls_task or opts.export_task\n",
    "\n",
    "if opts.data_type in [\"Aave_time_pos\", \"Aave_time_static\"]:\n",
    "    assert opts.time_pos_type == 'time_aware_sin_cos_position'\n",
    "elif opts.data_type in [\"Aave\", \"Aave_static\"]:\n",
    "    assert opts.time_pos_type in ['sin_cos_position', 'regular_position']\n",
    "\n",
    "if opts.mlm and opts.lm_type == \"gpt2\":\n",
    "    raise Exception(\n",
    "        \"Error: GPT2 doesn't need '--mlm' option. Please re-run with this flag removed.\")\n",
    "\n",
    "if (not opts.mlm) and (not opts.cls_exp_task) and opts.lm_type == \"bert\":\n",
    "    raise Exception(\n",
    "        \"Error: Bert needs either '--mlm', '--cls_task' or '--export_task' option. Please re-run with this flag \"\n",
    "        \"included.\")\n",
    "\n",
    "main(opts)"
   ]
  },
  {
   "cell_type": "code",
   "execution_count": null,
   "id": "ca523277-3c22-4605-98ba-eb0d88737d3d",
   "metadata": {},
   "outputs": [],
   "source": []
  }
 ],
 "metadata": {
  "kernelspec": {
   "display_name": "Python3.9",
   "language": "python",
   "name": "new_env"
  },
  "language_info": {
   "codemirror_mode": {
    "name": "ipython",
    "version": 3
   },
   "file_extension": ".py",
   "mimetype": "text/x-python",
   "name": "python",
   "nbconvert_exporter": "python",
   "pygments_lexer": "ipython3",
   "version": "3.9.12"
  }
 },
 "nbformat": 4,
 "nbformat_minor": 5
}

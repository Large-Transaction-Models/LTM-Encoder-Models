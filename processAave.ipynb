{
 "cells": [
  {
   "cell_type": "markdown",
   "id": "415fc99a-1caa-40e0-9425-060c14bf968f",
   "metadata": {},
   "source": [
    "### Process"
   ]
  },
  {
   "cell_type": "code",
   "execution_count": 1,
   "id": "cf0c790e-210c-4c6a-9fec-6ac06a90bab5",
   "metadata": {},
   "outputs": [
    {
     "name": "stderr",
     "output_type": "stream",
     "text": [
      "/home/greena12/.conda/envs/greena12/lib/python3.10/site-packages/tqdm/auto.py:21: TqdmWarning: IProgress not found. Please update jupyter and ipywidgets. See https://ipywidgets.readthedocs.io/en/stable/user_install.html\n",
      "  from .autonotebook import tqdm as notebook_tqdm\n"
     ]
    }
   ],
   "source": [
    "from dataset.aave_time_static import AaveWithTimePosAndStaticSplitDataset\n",
    "from dataset.aave_time_pos import AaveWithTimePosDataset\n",
    "from dataset.aave_static import AaveWithStaticSplitDataset\n",
    "from dataset.aave import AaveDataset\n",
    "from dataset.aave_basic import AaveBasicDataset\n",
    "\n",
    "import logging\n",
    "\n",
    "\n",
    "logging.basicConfig(level=logging.INFO,  \n",
    "                    format='%(asctime)s - %(levelname)s - %(message)s')  \n",
    "log = logging.getLogger(__name__) "
   ]
  },
  {
   "cell_type": "code",
   "execution_count": 2,
   "id": "f6c25454-648b-4a91-a5b2-fc7c50388ab7",
   "metadata": {},
   "outputs": [],
   "source": [
    "include_user_features = True\n",
    "include_time_features = True\n",
    "include_market_features = True\n",
    "include_exo_features = False\n",
    "\n",
    "fextension = \"\"\n",
    "if include_user_features:\n",
    "    fextension += \"_user\"\n",
    "if include_market_features:\n",
    "    fextension += \"_market\"\n",
    "if include_time_features:\n",
    "    fextension += \"_time\"\n",
    "if include_exo_features:\n",
    "    fextension += \"_exoLagged\""
   ]
  },
  {
   "cell_type": "code",
   "execution_count": 3,
   "id": "2b646474-00bb-493c-a5a0-fe1ab4412eac",
   "metadata": {},
   "outputs": [],
   "source": [
    "root=\"/data/IDEA_DeFi_Research/LTM/Data/Lending_Protocols/Aave/V2/Mainnet\"\n",
    "vocab_dir=f\"{root}/vocab\"\n",
    "fname = f\"transactions{fextension}_train\"  \n",
    "val_fname = \"\" \n",
    "test_fname = f\"transactions{fextension}_test\"  \n",
    "fextension=\"\"\n",
    "preload_fextension=\"\"\n",
    "save_vocab_dir=vocab_dir\n",
    "preload_vocab_dir=vocab_dir\n",
    "user_level_cached=False\n",
    "vocab_cached=False\n",
    "external_vocab_path=\"\"\n",
    "resample_method=None\n",
    "resample_ratio=10\n",
    "resample_seed=100\n",
    "external_val=False"
   ]
  },
  {
   "cell_type": "code",
   "execution_count": 4,
   "id": "03d19dda-63cc-416e-9e6b-f35ca07e6cfd",
   "metadata": {},
   "outputs": [],
   "source": [
    "if not fextension:\n",
    "    if vocab_cached:\n",
    "        external_vocab_path=root+\"vocab_ob\"\n",
    "    fextension=\"\"\n",
    "else:\n",
    "    if vocab_cached:\n",
    "        external_vocab_path=root+\"vocab_ob_\"+ fextension\n",
    "if not preload_fextension:\n",
    "    preload_fextension=\"\"\n",
    "if not external_vocab_path:\n",
    "    external_vocab_path=\"\"\n",
    "\n",
    "assert fextension in [\"static\", \"static-test\", \"time-pos\", \"time-pos-test\", \n",
    "                      \"\", \"test\", \"static-only\", \"static-only-test\"]"
   ]
  },
  {
   "cell_type": "code",
   "execution_count": 5,
   "id": "733598f5-3190-4945-abac-b6f0fa5d8b2f",
   "metadata": {},
   "outputs": [],
   "source": [
    "dataset_class = ''\n",
    "if fextension in ['static', 'static-test']:\n",
    "    dataset_class = 'AaveWithTimePosAndStaticSplitDataset'\n",
    "elif fextension in [\"static-only\", \"static-only-test\"]:\n",
    "    dataset_class = 'AaveWithStaticSplitDataset'\n",
    "elif fextension in [\"time-pos\", \"time-pos-test\"]:\n",
    "    dataset_class = 'AaveWithTimePosDataset'\n",
    "elif fextension in [\"\", \"test\"]:\n",
    "    dataset_class = 'AaveDataset'"
   ]
  },
  {
   "cell_type": "code",
   "execution_count": 6,
   "id": "d0ece4da-b424-4b55-a303-ce794eeefcf5",
   "metadata": {},
   "outputs": [
    {
     "name": "stdout",
     "output_type": "stream",
     "text": [
      "AaveDataset\n"
     ]
    }
   ],
   "source": [
    "print(dataset_class)"
   ]
  },
  {
   "cell_type": "code",
   "execution_count": 7,
   "id": "54cb48c9-3d80-4d7b-b594-5611c05801c3",
   "metadata": {},
   "outputs": [
    {
     "name": "stderr",
     "output_type": "stream",
     "text": [
      "2025-01-15 12:56:44,719 - INFO - cached encoded data is read from transactions_user_market_time_train.encoded.csv\n",
      "2025-01-15 12:56:55,092 - INFO - read data : (1921610, 128)\n",
      "2025-01-15 12:56:55,108 - INFO - preparing user level data...\n",
      "100%|██████████| 113601/113601 [01:20<00:00, 1415.95it/s]\n",
      "2025-01-15 12:58:26,221 - INFO - creating transaction samples with vocab\n",
      "100%|██████████| 113601/113601 [02:01<00:00, 935.52it/s] \n",
      "2025-01-15 13:00:27,656 - INFO - ncols: 125\n",
      "2025-01-15 13:00:27,657 - INFO - no of samples 364279\n",
      "2025-01-15 13:00:29,145 - INFO - saving vocab at /data/IDEA_DeFi_Research/LTM/Data/Lending_Protocols/Aave/V2/Mainnet/vocab/vocab.nb\n",
      "2025-01-15 13:00:29,173 - INFO - saving vocab object at /data/IDEA_DeFi_Research/LTM/Data/Lending_Protocols/Aave/V2/Mainnet/vocab/vocab_ob\n"
     ]
    }
   ],
   "source": [
    "dataset = eval(dataset_class)(cls_task=True,\n",
    "                              user_ids=None,\n",
    "                              seq_len=10,\n",
    "                              root=root,\n",
    "                              fname=fname,\n",
    "                              user_level_cached=user_level_cached,\n",
    "                              vocab_cached=vocab_cached,\n",
    "                              external_vocab_path=external_vocab_path,\n",
    "                              preload_vocab_dir=preload_vocab_dir,\n",
    "                              save_vocab_dir=save_vocab_dir,\n",
    "                              preload_fextension=preload_fextension,\n",
    "                              fextension=fextension,\n",
    "                              nrows=None,\n",
    "                              flatten=False,\n",
    "                              stride=5,\n",
    "                              return_labels=True,\n",
    "                              label_category='last_label',\n",
    "                              pad_seq_first=False,\n",
    "                              get_rids=True,\n",
    "                              long_and_sort=True,\n",
    "                              resample_method=resample_method,\n",
    "                              resample_ratio=resample_ratio,\n",
    "                              resample_seed=resample_seed)"
   ]
  },
  {
   "cell_type": "code",
   "execution_count": 9,
   "id": "8a794ae9-3a19-4e76-a4c6-d5ebc0ec926a",
   "metadata": {},
   "outputs": [],
   "source": [
    "if not external_vocab_path:\n",
    "    external_vocab_path=dataset.vocab_path\n",
    "vocab_cached=True\n",
    "encoder_cached=True"
   ]
  },
  {
   "cell_type": "code",
   "execution_count": 10,
   "id": "3b6e2b7b-37a0-44a1-b4df-c2fccc6eb2ee",
   "metadata": {},
   "outputs": [
    {
     "name": "stderr",
     "output_type": "stream",
     "text": [
      "2025-01-15 13:00:46,705 - INFO - cached encoded data is read from transactions_user_market_time_test.encoded.csv\n",
      "2025-01-15 13:00:47,079 - INFO - read data : (87566, 128)\n",
      "2025-01-15 13:00:47,080 - INFO - using cached vocab from /data/IDEA_DeFi_Research/LTM/Data/Lending_Protocols/Aave/V2/Mainnet/vocab/vocab_ob\n",
      "2025-01-15 13:00:47,102 - INFO - preparing user level data...\n",
      "100%|██████████| 5889/5889 [00:03<00:00, 1591.07it/s]\n",
      "2025-01-15 13:00:51,397 - INFO - creating transaction samples with vocab\n",
      "100%|██████████| 5889/5889 [00:04<00:00, 1323.70it/s]\n",
      "2025-01-15 13:00:55,850 - INFO - ncols: 125\n",
      "2025-01-15 13:00:55,850 - INFO - no of samples 13554\n"
     ]
    }
   ],
   "source": [
    "test_dataset = eval(dataset_class)(cls_task=True,\n",
    "                              user_ids=None,\n",
    "                              seq_len=10,\n",
    "                              root=root,\n",
    "                              fname=test_fname,\n",
    "                              user_level_cached=user_level_cached,\n",
    "                              vocab_cached=vocab_cached,\n",
    "                              external_vocab_path=external_vocab_path,\n",
    "                              preload_vocab_dir=preload_vocab_dir,\n",
    "                              save_vocab_dir=save_vocab_dir,\n",
    "                              preload_fextension=preload_fextension,\n",
    "                              fextension=fextension,\n",
    "                              nrows=None,\n",
    "                              flatten=False,\n",
    "                              stride=5,\n",
    "                              return_labels=True,\n",
    "                              label_category='last_label',\n",
    "                              pad_seq_first=False,\n",
    "                              get_rids=True,\n",
    "                              long_and_sort=True,\n",
    "                              resample_method=resample_method,\n",
    "                              resample_ratio=resample_ratio,\n",
    "                              resample_seed=resample_seed)"
   ]
  }
 ],
 "metadata": {
  "kernelspec": {
   "display_name": "Python (greena12)",
   "language": "python",
   "name": "greena12"
  },
  "language_info": {
   "codemirror_mode": {
    "name": "ipython",
    "version": 3
   },
   "file_extension": ".py",
   "mimetype": "text/x-python",
   "name": "python",
   "nbconvert_exporter": "python",
   "pygments_lexer": "ipython3",
   "version": "3.10.4"
  }
 },
 "nbformat": 4,
 "nbformat_minor": 5
}

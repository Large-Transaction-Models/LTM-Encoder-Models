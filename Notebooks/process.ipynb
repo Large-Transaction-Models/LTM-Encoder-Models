{
 "cells": [
  {
   "cell_type": "markdown",
   "id": "415fc99a-1caa-40e0-9425-060c14bf968f",
   "metadata": {},
   "source": [
    "### Process"
   ]
  },
  {
   "cell_type": "code",
   "execution_count": 1,
   "id": "cf0c790e-210c-4c6a-9fec-6ac06a90bab5",
   "metadata": {},
   "outputs": [
    {
     "name": "stderr",
     "output_type": "stream",
     "text": [
      "/home/greena12/.conda/envs/greena12/lib/python3.10/site-packages/tqdm/auto.py:21: TqdmWarning: IProgress not found. Please update jupyter and ipywidgets. See https://ipywidgets.readthedocs.io/en/stable/user_install.html\n",
      "  from .autonotebook import tqdm as notebook_tqdm\n"
     ]
    }
   ],
   "source": [
    "import os\n",
    "import sys\n",
    "sys.path.append(os.path.abspath('../'))\n",
    "\n",
    "from dataset.dataset import Dataset\n",
    "from dataset.basic import BasicDataset\n",
    "\n",
    "import logging\n",
    "\n",
    "\n",
    "logging.basicConfig(level=logging.INFO,  \n",
    "                    format='%(asctime)s - %(levelname)s - %(message)s')  \n",
    "log = logging.getLogger(__name__) "
   ]
  },
  {
   "cell_type": "code",
   "execution_count": 2,
   "id": "f6c25454-648b-4a91-a5b2-fc7c50388ab7",
   "metadata": {},
   "outputs": [],
   "source": [
    "include_user_features = True\n",
    "include_time_features = True\n",
    "include_market_features = False\n",
    "include_exo_features = False\n",
    "\n",
    "fextension = \"\"\n",
    "if include_user_features:\n",
    "    fextension += \"_user\"\n",
    "if include_market_features:\n",
    "    fextension += \"_market\"\n",
    "if include_time_features:\n",
    "    fextension += \"_time\"\n",
    "if include_exo_features:\n",
    "    fextension += \"_exoLagged\""
   ]
  },
  {
   "cell_type": "code",
   "execution_count": 3,
   "id": "2b646474-00bb-493c-a5a0-fe1ab4412eac",
   "metadata": {},
   "outputs": [],
   "source": [
    "root=\"/data/IDEA_DeFi_Research/Data/AML/LI_Small/preprocessed\"\n",
    "vocab_dir=f\"{root}/vocab\"\n",
    "fname = f\"transactions{fextension}_train\"  \n",
    "val_fname = \"\" \n",
    "test_fname = f\"transactions{fextension}_test\"  \n",
    "fextension=\"\"\n",
    "preload_fextension=\"\"\n",
    "save_vocab_dir=vocab_dir\n",
    "preload_vocab_dir=vocab_dir\n",
    "user_level_cached=False\n",
    "vocab_cached=False\n",
    "external_vocab_path=\"\"\n",
    "resample_method=None\n",
    "resample_ratio=10\n",
    "resample_seed=100\n",
    "external_val=False"
   ]
  },
  {
   "cell_type": "code",
   "execution_count": 4,
   "id": "03d19dda-63cc-416e-9e6b-f35ca07e6cfd",
   "metadata": {},
   "outputs": [],
   "source": [
    "if not fextension:\n",
    "    if vocab_cached:\n",
    "        external_vocab_path=root+\"vocab_ob\"\n",
    "    fextension=\"\"\n",
    "else:\n",
    "    if vocab_cached:\n",
    "        external_vocab_path=root+\"vocab_ob_\"+ fextension\n",
    "if not preload_fextension:\n",
    "    preload_fextension=\"\"\n",
    "if not external_vocab_path:\n",
    "    external_vocab_path=\"\"\n",
    "\n",
    "assert fextension in [\"\", \"test\"]"
   ]
  },
  {
   "cell_type": "code",
   "execution_count": 5,
   "id": "733598f5-3190-4945-abac-b6f0fa5d8b2f",
   "metadata": {},
   "outputs": [],
   "source": [
    "dataset_class = ''\n",
    "if fextension in [\"\", \"test\"]:\n",
    "    dataset_class = 'Dataset'"
   ]
  },
  {
   "cell_type": "code",
   "execution_count": 6,
   "id": "d0ece4da-b424-4b55-a303-ce794eeefcf5",
   "metadata": {},
   "outputs": [
    {
     "name": "stdout",
     "output_type": "stream",
     "text": [
      "Dataset\n"
     ]
    }
   ],
   "source": [
    "print(dataset_class)"
   ]
  },
  {
   "cell_type": "code",
   "execution_count": 7,
   "id": "54cb48c9-3d80-4d7b-b594-5611c05801c3",
   "metadata": {},
   "outputs": [
    {
     "name": "stderr",
     "output_type": "stream",
     "text": [
      "2025-02-10 11:40:01,909 - INFO - cached encoded data is read from transactions_user_time_train.encoded.csv\n",
      "2025-02-10 11:40:02,075 - INFO - read data : (10000, 70)\n",
      "2025-02-10 11:40:02,080 - INFO - preparing user level data...\n",
      "100%|██████████| 1/1 [00:00<00:00,  2.83it/s]\n",
      "2025-02-10 11:40:02,467 - INFO - creating transaction samples with vocab\n",
      "100%|██████████| 1/1 [00:00<00:00,  3.72it/s]\n",
      "2025-02-10 11:40:02,738 - INFO - ncols: 67\n",
      "2025-02-10 11:40:02,738 - INFO - no of samples 1999\n",
      "2025-02-10 11:40:02,740 - INFO - saving vocab at /data/IDEA_DeFi_Research/Data/AML/LI_Small/preprocessed/vocab/vocab.nb\n",
      "2025-02-10 11:40:02,752 - INFO - saving vocab object at /data/IDEA_DeFi_Research/Data/AML/LI_Small/preprocessed/vocab/vocab_ob\n"
     ]
    }
   ],
   "source": [
    "dataset = eval(dataset_class)(cls_task=True,\n",
    "                              user_ids=None,\n",
    "                              seq_len=10,\n",
    "                              root=root,\n",
    "                              fname=fname,\n",
    "                              user_level_cached=user_level_cached,\n",
    "                              vocab_cached=vocab_cached,\n",
    "                              external_vocab_path=external_vocab_path,\n",
    "                              preload_vocab_dir=preload_vocab_dir,\n",
    "                              save_vocab_dir=save_vocab_dir,\n",
    "                              preload_fextension=preload_fextension,\n",
    "                              fextension=fextension,\n",
    "                              nrows=10000,\n",
    "                              flatten=False,\n",
    "                              stride=5,\n",
    "                              return_labels=True,\n",
    "                              label_category='last_label',\n",
    "                              pad_seq_first=False,\n",
    "                              get_rids=True,\n",
    "                              long_and_sort=True,\n",
    "                              resample_method=resample_method,\n",
    "                              resample_ratio=resample_ratio,\n",
    "                              resample_seed=resample_seed)"
   ]
  },
  {
   "cell_type": "code",
   "execution_count": 8,
   "id": "8a794ae9-3a19-4e76-a4c6-d5ebc0ec926a",
   "metadata": {},
   "outputs": [],
   "source": [
    "if not external_vocab_path:\n",
    "    external_vocab_path=dataset.vocab_path\n",
    "vocab_cached=True\n",
    "encoder_cached=True"
   ]
  },
  {
   "cell_type": "code",
   "execution_count": 9,
   "id": "3b6e2b7b-37a0-44a1-b4df-c2fccc6eb2ee",
   "metadata": {},
   "outputs": [
    {
     "name": "stderr",
     "output_type": "stream",
     "text": [
      "2025-02-10 11:40:02,821 - INFO - cached encoded data is read from transactions_user_time_test.encoded.csv\n",
      "2025-02-10 11:40:07,977 - INFO - read data : (2269478, 70)\n",
      "2025-02-10 11:40:07,978 - INFO - using cached vocab from /data/IDEA_DeFi_Research/Data/AML/LI_Small/preprocessed/vocab/vocab_ob\n",
      "2025-02-10 11:40:08,109 - INFO - preparing user level data...\n",
      "100%|██████████| 237709/237709 [01:50<00:00, 2154.43it/s]\n",
      "2025-02-10 11:42:02,535 - INFO - creating transaction samples with vocab\n",
      "  1%|          | 1650/237709 [00:03<07:28, 526.73it/s] \n"
     ]
    },
    {
     "ename": "Exception",
     "evalue": "token 0 not found in field: sinDayOfMonth",
     "output_type": "error",
     "traceback": [
      "\u001b[0;31m---------------------------------------------------------------------------\u001b[0m",
      "\u001b[0;31mException\u001b[0m                                 Traceback (most recent call last)",
      "Cell \u001b[0;32mIn[9], line 1\u001b[0m\n\u001b[0;32m----> 1\u001b[0m test_dataset \u001b[38;5;241m=\u001b[39m \u001b[38;5;28;43meval\u001b[39;49m\u001b[43m(\u001b[49m\u001b[43mdataset_class\u001b[49m\u001b[43m)\u001b[49m\u001b[43m(\u001b[49m\u001b[43mcls_task\u001b[49m\u001b[38;5;241;43m=\u001b[39;49m\u001b[38;5;28;43;01mTrue\u001b[39;49;00m\u001b[43m,\u001b[49m\n\u001b[1;32m      2\u001b[0m \u001b[43m                              \u001b[49m\u001b[43muser_ids\u001b[49m\u001b[38;5;241;43m=\u001b[39;49m\u001b[38;5;28;43;01mNone\u001b[39;49;00m\u001b[43m,\u001b[49m\n\u001b[1;32m      3\u001b[0m \u001b[43m                              \u001b[49m\u001b[43mseq_len\u001b[49m\u001b[38;5;241;43m=\u001b[39;49m\u001b[38;5;241;43m10\u001b[39;49m\u001b[43m,\u001b[49m\n\u001b[1;32m      4\u001b[0m \u001b[43m                              \u001b[49m\u001b[43mroot\u001b[49m\u001b[38;5;241;43m=\u001b[39;49m\u001b[43mroot\u001b[49m\u001b[43m,\u001b[49m\n\u001b[1;32m      5\u001b[0m \u001b[43m                              \u001b[49m\u001b[43mfname\u001b[49m\u001b[38;5;241;43m=\u001b[39;49m\u001b[43mtest_fname\u001b[49m\u001b[43m,\u001b[49m\n\u001b[1;32m      6\u001b[0m \u001b[43m                              \u001b[49m\u001b[43muser_level_cached\u001b[49m\u001b[38;5;241;43m=\u001b[39;49m\u001b[43muser_level_cached\u001b[49m\u001b[43m,\u001b[49m\n\u001b[1;32m      7\u001b[0m \u001b[43m                              \u001b[49m\u001b[43mvocab_cached\u001b[49m\u001b[38;5;241;43m=\u001b[39;49m\u001b[43mvocab_cached\u001b[49m\u001b[43m,\u001b[49m\n\u001b[1;32m      8\u001b[0m \u001b[43m                              \u001b[49m\u001b[43mexternal_vocab_path\u001b[49m\u001b[38;5;241;43m=\u001b[39;49m\u001b[43mexternal_vocab_path\u001b[49m\u001b[43m,\u001b[49m\n\u001b[1;32m      9\u001b[0m \u001b[43m                              \u001b[49m\u001b[43mpreload_vocab_dir\u001b[49m\u001b[38;5;241;43m=\u001b[39;49m\u001b[43mpreload_vocab_dir\u001b[49m\u001b[43m,\u001b[49m\n\u001b[1;32m     10\u001b[0m \u001b[43m                              \u001b[49m\u001b[43msave_vocab_dir\u001b[49m\u001b[38;5;241;43m=\u001b[39;49m\u001b[43msave_vocab_dir\u001b[49m\u001b[43m,\u001b[49m\n\u001b[1;32m     11\u001b[0m \u001b[43m                              \u001b[49m\u001b[43mpreload_fextension\u001b[49m\u001b[38;5;241;43m=\u001b[39;49m\u001b[43mpreload_fextension\u001b[49m\u001b[43m,\u001b[49m\n\u001b[1;32m     12\u001b[0m \u001b[43m                              \u001b[49m\u001b[43mfextension\u001b[49m\u001b[38;5;241;43m=\u001b[39;49m\u001b[43mfextension\u001b[49m\u001b[43m,\u001b[49m\n\u001b[1;32m     13\u001b[0m \u001b[43m                              \u001b[49m\u001b[43mnrows\u001b[49m\u001b[38;5;241;43m=\u001b[39;49m\u001b[38;5;28;43;01mNone\u001b[39;49;00m\u001b[43m,\u001b[49m\n\u001b[1;32m     14\u001b[0m \u001b[43m                              \u001b[49m\u001b[43mflatten\u001b[49m\u001b[38;5;241;43m=\u001b[39;49m\u001b[38;5;28;43;01mFalse\u001b[39;49;00m\u001b[43m,\u001b[49m\n\u001b[1;32m     15\u001b[0m \u001b[43m                              \u001b[49m\u001b[43mstride\u001b[49m\u001b[38;5;241;43m=\u001b[39;49m\u001b[38;5;241;43m5\u001b[39;49m\u001b[43m,\u001b[49m\n\u001b[1;32m     16\u001b[0m \u001b[43m                              \u001b[49m\u001b[43mreturn_labels\u001b[49m\u001b[38;5;241;43m=\u001b[39;49m\u001b[38;5;28;43;01mTrue\u001b[39;49;00m\u001b[43m,\u001b[49m\n\u001b[1;32m     17\u001b[0m \u001b[43m                              \u001b[49m\u001b[43mlabel_category\u001b[49m\u001b[38;5;241;43m=\u001b[39;49m\u001b[38;5;124;43m'\u001b[39;49m\u001b[38;5;124;43mlast_label\u001b[39;49m\u001b[38;5;124;43m'\u001b[39;49m\u001b[43m,\u001b[49m\n\u001b[1;32m     18\u001b[0m \u001b[43m                              \u001b[49m\u001b[43mpad_seq_first\u001b[49m\u001b[38;5;241;43m=\u001b[39;49m\u001b[38;5;28;43;01mFalse\u001b[39;49;00m\u001b[43m,\u001b[49m\n\u001b[1;32m     19\u001b[0m \u001b[43m                              \u001b[49m\u001b[43mget_rids\u001b[49m\u001b[38;5;241;43m=\u001b[39;49m\u001b[38;5;28;43;01mTrue\u001b[39;49;00m\u001b[43m,\u001b[49m\n\u001b[1;32m     20\u001b[0m \u001b[43m                              \u001b[49m\u001b[43mlong_and_sort\u001b[49m\u001b[38;5;241;43m=\u001b[39;49m\u001b[38;5;28;43;01mTrue\u001b[39;49;00m\u001b[43m,\u001b[49m\n\u001b[1;32m     21\u001b[0m \u001b[43m                              \u001b[49m\u001b[43mresample_method\u001b[49m\u001b[38;5;241;43m=\u001b[39;49m\u001b[43mresample_method\u001b[49m\u001b[43m,\u001b[49m\n\u001b[1;32m     22\u001b[0m \u001b[43m                              \u001b[49m\u001b[43mresample_ratio\u001b[49m\u001b[38;5;241;43m=\u001b[39;49m\u001b[43mresample_ratio\u001b[49m\u001b[43m,\u001b[49m\n\u001b[1;32m     23\u001b[0m \u001b[43m                              \u001b[49m\u001b[43mresample_seed\u001b[49m\u001b[38;5;241;43m=\u001b[39;49m\u001b[43mresample_seed\u001b[49m\u001b[43m)\u001b[49m\n",
      "File \u001b[0;32m~/LTM-Encoder-Models/dataset/dataset.py:43\u001b[0m, in \u001b[0;36mDataset.__init__\u001b[0;34m(self, cls_task, user_ids, seq_len, root, fname, user_level_cached, vocab_cached, external_vocab_path, preload_vocab_dir, save_vocab_dir, preload_fextension, fextension, nrows, flatten, stride, return_labels, label_category, pad_seq_first, get_rids, long_and_sort, resample_method, resample_ratio, resample_seed)\u001b[0m\n\u001b[1;32m     17\u001b[0m \u001b[38;5;28;01mdef\u001b[39;00m \u001b[38;5;21m__init__\u001b[39m(\u001b[38;5;28mself\u001b[39m,\n\u001b[1;32m     18\u001b[0m              cls_task,\n\u001b[1;32m     19\u001b[0m              user_ids\u001b[38;5;241m=\u001b[39m\u001b[38;5;28;01mNone\u001b[39;00m,\n\u001b[0;32m   (...)\u001b[0m\n\u001b[1;32m     40\u001b[0m              resample_seed\u001b[38;5;241m=\u001b[39m\u001b[38;5;241m100\u001b[39m\n\u001b[1;32m     41\u001b[0m              ):\n\u001b[0;32m---> 43\u001b[0m     \u001b[38;5;28;43msuper\u001b[39;49m\u001b[43m(\u001b[49m\u001b[43m)\u001b[49m\u001b[38;5;241;43m.\u001b[39;49m\u001b[38;5;21;43m__init__\u001b[39;49m\u001b[43m(\u001b[49m\u001b[43mcls_task\u001b[49m\u001b[43m,\u001b[49m\n\u001b[1;32m     44\u001b[0m \u001b[43m                     \u001b[49m\u001b[43muser_ids\u001b[49m\u001b[43m,\u001b[49m\n\u001b[1;32m     45\u001b[0m \u001b[43m                     \u001b[49m\u001b[43mseq_len\u001b[49m\u001b[43m,\u001b[49m\n\u001b[1;32m     46\u001b[0m \u001b[43m                     \u001b[49m\u001b[43mroot\u001b[49m\u001b[43m,\u001b[49m\n\u001b[1;32m     47\u001b[0m \u001b[43m                     \u001b[49m\u001b[43mfname\u001b[49m\u001b[43m,\u001b[49m\n\u001b[1;32m     48\u001b[0m \u001b[43m                     \u001b[49m\u001b[43muser_level_cached\u001b[49m\u001b[43m,\u001b[49m\n\u001b[1;32m     49\u001b[0m \u001b[43m                     \u001b[49m\u001b[43mvocab_cached\u001b[49m\u001b[43m,\u001b[49m\n\u001b[1;32m     50\u001b[0m \u001b[43m                     \u001b[49m\u001b[43mexternal_vocab_path\u001b[49m\u001b[43m,\u001b[49m\n\u001b[1;32m     51\u001b[0m \u001b[43m                     \u001b[49m\u001b[43mpreload_vocab_dir\u001b[49m\u001b[43m,\u001b[49m\n\u001b[1;32m     52\u001b[0m \u001b[43m                     \u001b[49m\u001b[43msave_vocab_dir\u001b[49m\u001b[43m,\u001b[49m\n\u001b[1;32m     53\u001b[0m \u001b[43m                     \u001b[49m\u001b[43mpreload_fextension\u001b[49m\u001b[43m,\u001b[49m\n\u001b[1;32m     54\u001b[0m \u001b[43m                     \u001b[49m\u001b[43mfextension\u001b[49m\u001b[43m,\u001b[49m\n\u001b[1;32m     55\u001b[0m \u001b[43m                     \u001b[49m\u001b[43mnrows\u001b[49m\u001b[43m,\u001b[49m\n\u001b[1;32m     56\u001b[0m \u001b[43m                     \u001b[49m\u001b[43mflatten\u001b[49m\u001b[43m,\u001b[49m\n\u001b[1;32m     57\u001b[0m \u001b[43m                     \u001b[49m\u001b[43mstride\u001b[49m\u001b[43m,\u001b[49m\n\u001b[1;32m     58\u001b[0m \u001b[43m                     \u001b[49m\u001b[43mreturn_labels\u001b[49m\u001b[43m,\u001b[49m\n\u001b[1;32m     59\u001b[0m \u001b[43m                     \u001b[49m\u001b[43mlabel_category\u001b[49m\u001b[43m,\u001b[49m\n\u001b[1;32m     60\u001b[0m \u001b[43m                     \u001b[49m\u001b[43mpad_seq_first\u001b[49m\u001b[43m,\u001b[49m\n\u001b[1;32m     61\u001b[0m \u001b[43m                     \u001b[49m\u001b[43mget_rids\u001b[49m\u001b[43m,\u001b[49m\n\u001b[1;32m     62\u001b[0m \u001b[43m                     \u001b[49m\u001b[43mlong_and_sort\u001b[49m\u001b[43m,\u001b[49m\n\u001b[1;32m     63\u001b[0m \u001b[43m                     \u001b[49m\u001b[43mresample_method\u001b[49m\u001b[43m,\u001b[49m\n\u001b[1;32m     64\u001b[0m \u001b[43m                     \u001b[49m\u001b[43mresample_ratio\u001b[49m\u001b[43m,\u001b[49m\n\u001b[1;32m     65\u001b[0m \u001b[43m                     \u001b[49m\u001b[43mresample_seed\u001b[49m\n\u001b[1;32m     66\u001b[0m \u001b[43m                     \u001b[49m\u001b[43m)\u001b[49m\n",
      "File \u001b[0;32m~/LTM-Encoder-Models/dataset/basic.py:132\u001b[0m, in \u001b[0;36mBasicDataset.__init__\u001b[0;34m(self, cls_task, user_ids, seq_len, root, fname, user_level_cached, vocab_cached, external_vocab_path, preload_vocab_dir, save_vocab_dir, preload_fextension, fextension, nrows, flatten, stride, return_labels, label_category, pad_seq_first, get_rids, long_and_sort, resample_method, resample_ratio, resample_seed)\u001b[0m\n\u001b[1;32m    130\u001b[0m     \u001b[38;5;28mself\u001b[39m\u001b[38;5;241m.\u001b[39mtrans_table \u001b[38;5;241m=\u001b[39m \u001b[38;5;28mself\u001b[39m\u001b[38;5;241m.\u001b[39mtrans_table[reordered_columns]\n\u001b[1;32m    131\u001b[0m     \u001b[38;5;66;03m# log.debug(f\"new column ordering: {reordered_columns}\")\u001b[39;00m\n\u001b[0;32m--> 132\u001b[0m     \u001b[38;5;28;43mself\u001b[39;49m\u001b[38;5;241;43m.\u001b[39;49m\u001b[43mprepare_samples\u001b[49m\u001b[43m(\u001b[49m\u001b[43m)\u001b[49m\n\u001b[1;32m    133\u001b[0m \u001b[38;5;28;01melif\u001b[39;00m \u001b[38;5;28mself\u001b[39m\u001b[38;5;241m.\u001b[39mvocab_cached \u001b[38;5;129;01mand\u001b[39;00m \u001b[38;5;129;01mnot\u001b[39;00m path\u001b[38;5;241m.\u001b[39mexists(\u001b[38;5;28mself\u001b[39m\u001b[38;5;241m.\u001b[39mexternal_vocab_path):\n\u001b[1;32m    134\u001b[0m     \u001b[38;5;28;01mraise\u001b[39;00m \u001b[38;5;167;01mFileNotFoundError\u001b[39;00m(\u001b[38;5;124mf\u001b[39m\u001b[38;5;124m\"\u001b[39m\u001b[38;5;124mexternal vocab file \u001b[39m\u001b[38;5;132;01m{\u001b[39;00m\u001b[38;5;28mself\u001b[39m\u001b[38;5;241m.\u001b[39mexternal_vocab_path\u001b[38;5;132;01m}\u001b[39;00m\u001b[38;5;124m is not found\u001b[39m\u001b[38;5;124m\"\u001b[39m)\n",
      "File \u001b[0;32m~/LTM-Encoder-Models/dataset/dataset.py:239\u001b[0m, in \u001b[0;36mDataset.prepare_samples\u001b[0;34m(self)\u001b[0m\n\u001b[1;32m    236\u001b[0m \u001b[38;5;28;01mfor\u001b[39;00m user_idx \u001b[38;5;129;01min\u001b[39;00m tqdm\u001b[38;5;241m.\u001b[39mtqdm(\u001b[38;5;28mrange\u001b[39m(\u001b[38;5;28mlen\u001b[39m(trans_data))):\n\u001b[1;32m    237\u001b[0m     \u001b[38;5;66;03m# Extract user-level transaction data and convert to token IDs\u001b[39;00m\n\u001b[1;32m    238\u001b[0m     user_row \u001b[38;5;241m=\u001b[39m trans_data[user_idx]\n\u001b[0;32m--> 239\u001b[0m     user_row_ids \u001b[38;5;241m=\u001b[39m \u001b[38;5;28;43mself\u001b[39;49m\u001b[38;5;241;43m.\u001b[39;49m\u001b[43mformat_trans\u001b[49m\u001b[43m(\u001b[49m\u001b[43muser_row\u001b[49m\u001b[43m,\u001b[49m\u001b[43m \u001b[49m\u001b[43mcolumns_names\u001b[49m\u001b[43m)\u001b[49m\n\u001b[1;32m    241\u001b[0m     \u001b[38;5;66;03m# Extract labels and (optionally) row IDs for the user\u001b[39;00m\n\u001b[1;32m    242\u001b[0m     user_labels \u001b[38;5;241m=\u001b[39m trans_labels[user_idx]\n",
      "File \u001b[0;32m~/LTM-Encoder-Models/dataset/dataset.py:199\u001b[0m, in \u001b[0;36mDataset.format_trans\u001b[0;34m(self, trans_lst, column_names)\u001b[0m\n\u001b[1;32m    196\u001b[0m \u001b[38;5;66;03m# Map each field in the transaction to its corresponding vocabulary ID\u001b[39;00m\n\u001b[1;32m    197\u001b[0m \u001b[38;5;28;01mfor\u001b[39;00m jdx, field \u001b[38;5;129;01min\u001b[39;00m \u001b[38;5;28menumerate\u001b[39m(trans):\n\u001b[1;32m    198\u001b[0m     \u001b[38;5;66;03m# Use the vocabulary to get the token ID, specifying the column context\u001b[39;00m\n\u001b[0;32m--> 199\u001b[0m     vocab_id \u001b[38;5;241m=\u001b[39m \u001b[38;5;28;43mself\u001b[39;49m\u001b[38;5;241;43m.\u001b[39;49m\u001b[43mvocab\u001b[49m\u001b[38;5;241;43m.\u001b[39;49m\u001b[43mget_id\u001b[49m\u001b[43m(\u001b[49m\u001b[43mfield\u001b[49m\u001b[43m,\u001b[49m\u001b[43m \u001b[49m\u001b[43mcolumn_names\u001b[49m\u001b[43m[\u001b[49m\u001b[43mjdx\u001b[49m\u001b[43m]\u001b[49m\u001b[43m)\u001b[49m\n\u001b[1;32m    200\u001b[0m     vocab_ids\u001b[38;5;241m.\u001b[39mappend(vocab_id)\n\u001b[1;32m    202\u001b[0m \u001b[38;5;66;03m# Optionally add the [SEP] token ID to the end of the tokenized transaction\u001b[39;00m\n\u001b[1;32m    203\u001b[0m \u001b[38;5;66;03m# if a classification task is active (e.g., for BERT-like models)\u001b[39;00m\n",
      "File \u001b[0;32m~/LTM-Encoder-Models/dataset/vocab.py:144\u001b[0m, in \u001b[0;36mVocabulary.get_id\u001b[0;34m(self, token, field_name, special_token, return_local)\u001b[0m\n\u001b[1;32m    141\u001b[0m     global_id, local_id \u001b[38;5;241m=\u001b[39m \u001b[38;5;28mself\u001b[39m\u001b[38;5;241m.\u001b[39mtoken2id[field_name][token]\n\u001b[1;32m    142\u001b[0m \u001b[38;5;28;01melse\u001b[39;00m:\n\u001b[1;32m    143\u001b[0m     \u001b[38;5;66;03m# Raise an exception if the token is not found\u001b[39;00m\n\u001b[0;32m--> 144\u001b[0m     \u001b[38;5;28;01mraise\u001b[39;00m \u001b[38;5;167;01mException\u001b[39;00m(\u001b[38;5;124mf\u001b[39m\u001b[38;5;124m\"\u001b[39m\u001b[38;5;124mtoken \u001b[39m\u001b[38;5;132;01m{\u001b[39;00mtoken\u001b[38;5;132;01m}\u001b[39;00m\u001b[38;5;124m not found in field: \u001b[39m\u001b[38;5;132;01m{\u001b[39;00mfield_name\u001b[38;5;132;01m}\u001b[39;00m\u001b[38;5;124m\"\u001b[39m)\n\u001b[1;32m    146\u001b[0m \u001b[38;5;66;03m# Return the local ID if requested; otherwise, return the global ID\u001b[39;00m\n\u001b[1;32m    147\u001b[0m \u001b[38;5;28;01mif\u001b[39;00m return_local:\n",
      "\u001b[0;31mException\u001b[0m: token 0 not found in field: sinDayOfMonth"
     ]
    }
   ],
   "source": [
    "test_dataset = eval(dataset_class)(cls_task=True,\n",
    "                              user_ids=None,\n",
    "                              seq_len=10,\n",
    "                              root=root,\n",
    "                              fname=test_fname,\n",
    "                              user_level_cached=user_level_cached,\n",
    "                              vocab_cached=vocab_cached,\n",
    "                              external_vocab_path=external_vocab_path,\n",
    "                              preload_vocab_dir=preload_vocab_dir,\n",
    "                              save_vocab_dir=save_vocab_dir,\n",
    "                              preload_fextension=preload_fextension,\n",
    "                              fextension=fextension,\n",
    "                              nrows=None,\n",
    "                              flatten=False,\n",
    "                              stride=5,\n",
    "                              return_labels=True,\n",
    "                              label_category='last_label',\n",
    "                              pad_seq_first=False,\n",
    "                              get_rids=True,\n",
    "                              long_and_sort=True,\n",
    "                              resample_method=resample_method,\n",
    "                              resample_ratio=resample_ratio,\n",
    "                              resample_seed=resample_seed)"
   ]
  }
 ],
 "metadata": {
  "kernelspec": {
   "display_name": "Python (greena12)",
   "language": "python",
   "name": "greena12"
  },
  "language_info": {
   "codemirror_mode": {
    "name": "ipython",
    "version": 3
   },
   "file_extension": ".py",
   "mimetype": "text/x-python",
   "name": "python",
   "nbconvert_exporter": "python",
   "pygments_lexer": "ipython3",
   "version": "3.10.4"
  }
 },
 "nbformat": 4,
 "nbformat_minor": 5
}

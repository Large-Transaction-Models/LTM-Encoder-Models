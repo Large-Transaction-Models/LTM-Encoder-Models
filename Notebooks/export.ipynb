{
 "cells": [
  {
   "cell_type": "code",
   "execution_count": 1,
   "id": "13a587e7-f334-4d77-8efe-4fd43be7659e",
   "metadata": {},
   "outputs": [
    {
     "name": "stderr",
     "output_type": "stream",
     "text": [
      "/home/greena12/.conda/envs/greena12/lib/python3.10/site-packages/tqdm/auto.py:21: TqdmWarning: IProgress not found. Please update jupyter and ipywidgets. See https://ipywidgets.readthedocs.io/en/stable/user_install.html\n",
      "  from .autonotebook import tqdm as notebook_tqdm\n"
     ]
    }
   ],
   "source": [
    "import os\n",
    "import sys\n",
    "sys.path.append(os.path.abspath('../'))\n",
    "from os import makedirs\n",
    "from os.path import join, basename\n",
    "import logging\n",
    "import numpy as np\n",
    "import torch\n",
    "import random\n",
    "from arguments import define_new_main_parser\n",
    "import json\n",
    "\n",
    "from transformers import Trainer, TrainingArguments, EarlyStoppingCallback\n",
    "\n",
    "from dataset.dataset import Dataset\n",
    "from models.modules import TabFormerBertLM, TabFormerBertForClassification, TabFormerBertModel, TabStaticFormerBert, \\\n",
    "    TabStaticFormerBertLM, TabStaticFormerBertClassification\n",
    "from misc.utils import ordered_split_dataset, compute_cls_metrics\n",
    "from dataset.datacollator import *\n",
    "from main import main\n",
    "\n",
    "logger = logging.getLogger(__name__)\n",
    "log = logger\n",
    "logging.basicConfig(\n",
    "    format=\"%(asctime)s - %(levelname)s - %(name)s -   %(message)s\",\n",
    "    datefmt=\"%m/%d/%Y %H:%M:%S\",\n",
    "    level=logging.INFO,\n",
    ")\n",
    "\n",
    "import os\n",
    "os.environ[\"WANDB_DISABLED\"] = \"true\"\n",
    "\n",
    "data_path = \"/data/IDEA_DeFi_Research/LTM/Data/Lending_Protocols/Aave/V2/Mainnet\"\n",
    "\n",
    "include_user_features = True\n",
    "include_time_features = True\n",
    "include_market_features = True\n",
    "include_exo_features = False\n",
    "\n",
    "feature_extension = \"\"\n",
    "if include_user_features:\n",
    "    feature_extension += \"_user\"\n",
    "if include_market_features:\n",
    "    feature_extension += \"_market\"\n",
    "if include_time_features:\n",
    "    feature_extension += \"_time\"\n",
    "if include_exo_features:\n",
    "    feature_extension += \"_exoLagged\"\n",
    "\n",
    "\n",
    "\n",
    "file_path = f\"{data_path}/transactions_user_market_time_exoLagged.rds\"\n",
    "train_path = f\"{data_path}/transactions{feature_extension}_train.csv\"\n",
    "test_path = f\"{data_path}/transactions{feature_extension}_test.csv\""
   ]
  },
  {
   "cell_type": "code",
   "execution_count": 2,
   "id": "cb1d9559-84ff-4f5b-bb3e-c3f932d5e829",
   "metadata": {
    "tags": [
     "parameters"
    ]
   },
   "outputs": [],
   "source": [
    "data=\"/data/IDEA_DeFi_Research/LTM/Data/Lending_Protocols/Aave/V2/Mainnet\" \n",
    "dt=\"Aave\"\n",
    "exp_name=\"debug\"\n",
    "time_pos_type=\"regular_position\"\n",
    "fname = f\"transactions{feature_extension}_train\"  \n",
    "val_fname = f\"transactions{feature_extension}_val\" \n",
    "test_fname = f\"transactions{feature_extension}_test\"  \n",
    "fextension = False\n",
    "bs=32\n",
    "field_hs = 64 # hidden state dimension of the transformer (default: 768)\n",
    "seq_len = 10 # length for transaction sliding window\n",
    "stride = 1 # stride for transaction sliding window\n",
    "num_train_epochs=10\n",
    "save_steps=100\n",
    "eval_steps=100\n",
    "external_val=False\n",
    "output_dir=f\"{data}/output/{exp_name}\"\n",
    "checkpoint=None\n",
    "nrows=1000\n",
    "vocab_dir=f\"{data}/vocab\"\n",
    "resample_method = None\n",
    "\n",
    "# export-specific arguments:\n",
    "nbatches = 1"
   ]
  },
  {
   "cell_type": "code",
   "execution_count": 3,
   "id": "4dc1e6b1-4a01-4565-a2d2-d90d2b9a5260",
   "metadata": {},
   "outputs": [],
   "source": [
    "arg_str = f\" --export_task \\\n",
    "    --mlm \\\n",
    "    --pad_seq_first \\\n",
    "    --get_rids \\\n",
    "    --field_ce \\\n",
    "    --lm_type bert \\\n",
    "    --field_hs {field_hs} \\\n",
    "    --data_type {dt} \\\n",
    "    --seq_len {seq_len} \\\n",
    "    --stride {stride} \\\n",
    "    --num_train_epochs {num_train_epochs} \\\n",
    "    --data_root {data}/ \\\n",
    "    --train_batch_size {bs} \\\n",
    "    --eval_batch_size {bs} \\\n",
    "    --save_steps {save_steps} \\\n",
    "    --eval_steps {eval_steps} \\\n",
    "    --data_fname {fname} \\\n",
    "    --data_val_fname {val_fname} \\\n",
    "    --data_test_fname {test_fname} \\\n",
    "    --output_dir {output_dir} \\\n",
    "    --time_pos_type {time_pos_type} \\\n",
    "    --vocab_dir {vocab_dir} \\\n",
    "    --nrows {nrows} \\\n",
    "    --vocab_cached \\\n",
    "    --encoder_cached \\\n",
    "    --cached \\\n",
    "    --nbatches {nbatches} \\\n",
    "    --export_cls_embeddings \\\n",
    "    \"\n",
    "if fextension:\n",
    "    arg_str += f\"--fextension {fextension} \\\n",
    "    --external_vocab_path {data}/vocab/vocab_ob_{fextension}\"\n",
    "else:\n",
    "    arg_str += f\"--external_vocab_path {data}/vocab/vocab_ob\"\n",
    "if resample_method is not None:\n",
    "    arg_str += f\"\\\n",
    "    --resample_method {resample_method}\"\n",
    "if external_val:\n",
    "    arg_str += f\"\\\n",
    "    --external_val\"\n",
    "if checkpoint is not None:\n",
    "    arg_str += f\"\\\n",
    "    --checkpoint {checkpoint}\""
   ]
  },
  {
   "cell_type": "code",
   "execution_count": 4,
   "id": "0294f34c-4ff1-48ed-a11a-c1954016116f",
   "metadata": {},
   "outputs": [],
   "source": [
    "parser = define_new_main_parser(data_type_choices=[\"Aave\", \"Cosmetics\"])\n",
    "opts = parser.parse_args(arg_str.split())"
   ]
  },
  {
   "cell_type": "code",
   "execution_count": 5,
   "id": "54d524a2-eea8-463f-aac4-0abc0884bd72",
   "metadata": {},
   "outputs": [
    {
     "name": "stderr",
     "output_type": "stream",
     "text": [
      "2025-02-12 12:59:28 - INFO - dataset.basic - cached encoded data is read from transactions_user_market_time_train.encoded.csv\n",
      "2025-02-12 12:59:28 - INFO - dataset.basic - read data : (1000, 128)\n",
      "2025-02-12 12:59:28 - INFO - dataset.basic - using cached vocab from /data/IDEA_DeFi_Research/LTM/Data/Lending_Protocols/Aave/V2/Mainnet/vocab/vocab_ob\n",
      "2025-02-12 12:59:28 - INFO - dataset.dataset - preparing user level data...\n",
      "100%|██████████| 18/18 [00:00<00:00, 437.86it/s]\n",
      "2025-02-12 12:59:28 - INFO - dataset.dataset - creating transaction samples with vocab\n",
      "100%|██████████| 18/18 [00:00<00:00, 270.02it/s]\n",
      "2025-02-12 12:59:28 - INFO - dataset.dataset - ncols: 125\n",
      "2025-02-12 12:59:28 - INFO - dataset.dataset - no of samples 1000\n",
      "2025-02-12 12:59:28 - INFO - main - vocab size: 1732\n",
      "2025-02-12 12:59:28 - INFO - main - dataset size: 1000\n",
      "2025-02-12 12:59:28 - INFO - dataset.basic - cached encoded data is read from transactions_user_market_time_train.encoded.csv\n",
      "2025-02-12 12:59:29 - INFO - dataset.basic - read data : (1000, 128)\n",
      "2025-02-12 12:59:29 - INFO - dataset.basic - using cached vocab from /data/IDEA_DeFi_Research/LTM/Data/Lending_Protocols/Aave/V2/Mainnet/vocab/vocab_ob\n",
      "2025-02-12 12:59:29 - INFO - dataset.dataset - preparing user level data...\n",
      "100%|██████████| 18/18 [00:00<00:00, 466.94it/s]\n",
      "2025-02-12 12:59:29 - INFO - dataset.dataset - creating transaction samples with vocab\n",
      "100%|██████████| 18/18 [00:00<00:00, 270.01it/s]\n",
      "2025-02-12 12:59:29 - INFO - dataset.dataset - ncols: 125\n",
      "2025-02-12 12:59:29 - INFO - dataset.dataset - no of samples 1000\n",
      "2025-02-12 12:59:29 - INFO - main - test dataset size: 1000\n",
      "2025-02-12 12:59:29 - INFO - main - # Using external test dataset, lengths: train [1000]  valid [1000]  test [1000]\n",
      "2025-02-12 12:59:29 - INFO - main - # lengths: train [0.33]  valid [0.33]  test [0.33]\n",
      "/home/greena12/.conda/envs/greena12/lib/python3.10/site-packages/torch/nn/modules/transformer.py:306: UserWarning: enable_nested_tensor is True, but self.use_nested_tensor is False because encoder_layer.self_attn.batch_first was not True(use batch_first for better inference performance)\n",
      "  warnings.warn(f\"enable_nested_tensor is True, but self.use_nested_tensor is False because {why_not_sparsity_fast_path}\")\n",
      "BertForMaskedLM has generative capabilities, as `prepare_inputs_for_generation` is explicitly overwritten. However, it doesn't directly inherit from `GenerationMixin`. From 👉v4.50👈 onwards, `PreTrainedModel` will NOT inherit from `GenerationMixin`, and this model will lose the ability to call `generate` and other related functions.\n",
      "  - If you're using `trust_remote_code=True`, you can get rid of this warning by loading the model with an auto class. See https://huggingface.co/docs/transformers/en/model_doc/auto#auto-classes\n",
      "  - If you are the owner of the model architecture code, please modify your model class such that it inherits from `GenerationMixin` (after `PreTrainedModel`, otherwise you'll get an exception).\n",
      "  - If you are not the owner of the model architecture class, please contact the model code owner to update it.\n",
      "2025-02-12 13:00:01 - INFO - main - model initiated: <class 'models.modules.TabFormerHierarchicalLM'>\n",
      "2025-02-12 13:00:01 - INFO - main - Total parameters: 3745390660\n",
      "2025-02-12 13:00:01 - INFO - main - Trainable parameters: 3745390660\n",
      "2025-02-12 13:00:01 - INFO - main - collator class: TransDataCollatorForLanguageModeling\n"
     ]
    },
    {
     "data": {
      "text/html": [],
      "text/plain": [
       "<IPython.core.display.HTML object>"
      ]
     },
     "metadata": {},
     "output_type": "display_data"
    },
    {
     "name": "stdout",
     "output_type": "stream",
     "text": [
      "Predictions Shape After Processing: (1000, 1250, 1732)\n",
      "CLS Embeddings Shape: (1000, 1732)\n"
     ]
    }
   ],
   "source": [
    "opts.log_dir = join(opts.output_dir, \"logs\")\n",
    "makedirs(opts.output_dir, exist_ok=True)\n",
    "makedirs(opts.log_dir, exist_ok=True)\n",
    "\n",
    "file_handler = logging.FileHandler(\n",
    "    join(opts.log_dir, 'output.log'), 'w', 'utf-8')\n",
    "logger.addHandler(file_handler)\n",
    "\n",
    "opts.cls_exp_task = opts.cls_task or opts.export_task\n",
    "\n",
    "if opts.data_type in [\"Aave\"]:\n",
    "    assert opts.time_pos_type in ['sin_cos_position', 'regular_position']\n",
    "\n",
    "if (not opts.mlm) and (not opts.cls_exp_task) and opts.lm_type == \"bert\":\n",
    "    raise Exception(\n",
    "        \"Error: Bert needs either '--mlm', '--cls_task' or '--export_task' option. Please re-run with this flag \"\n",
    "        \"included.\")\n",
    "\n",
    "main(opts)"
   ]
  },
  {
   "cell_type": "code",
   "execution_count": 6,
   "id": "ca523277-3c22-4605-98ba-eb0d88737d3d",
   "metadata": {},
   "outputs": [
    {
     "name": "stdout",
     "output_type": "stream",
     "text": [
      "['seq_last_rids', 'seq_last_labels', 'cls_embeddings']\n"
     ]
    }
   ],
   "source": [
    "import numpy\n",
    "b = numpy.load('/data/IDEA_DeFi_Research/LTM/Data/Lending_Protocols/Aave/V2/Mainnet/output/debug/all_embeddings.npz')\n",
    "print(b.files)"
   ]
  },
  {
   "cell_type": "code",
   "execution_count": 7,
   "id": "e2235bca-4523-4231-9834-e985f4f8f209",
   "metadata": {},
   "outputs": [
    {
     "data": {
      "text/plain": [
       "1732"
      ]
     },
     "execution_count": 7,
     "metadata": {},
     "output_type": "execute_result"
    }
   ],
   "source": [
    "len(b['cls_embeddings'][0])"
   ]
  },
  {
   "cell_type": "code",
   "execution_count": 10,
   "id": "452be864-0c7e-4b36-b181-3c61cd212038",
   "metadata": {},
   "outputs": [
    {
     "data": {
      "text/plain": [
       "array(['0x3fec3516c8085e089d408562dd3f9ca1bbbc5b0eb4eaf20dc1acca3d5467ff57',\n",
       "       '0x452f5f9b8d503f395a1db08a2bd8f3af937d401d53584ec5fea321fe8bea29de',\n",
       "       '0x59a33c72e045d762a069ddfe10540ddc1b521cbd27e11e819a8b0e28b45732f1',\n",
       "       '0x3c07de24894604a8e9fd36be5eda98a8f9fdad794536cce07393c86a4718b9a6',\n",
       "       '0x090c9fb05186afb08a0e311160409f24b5aa33de8ea1b65998b218d8d91a9cbb',\n",
       "       '0x7e34687060651f2b90bbe729c1ede45d06c9316c164f4c436ade8835d42c1238',\n",
       "       '0x6b4ce8ce64a226ecdb08cad04fd4f15a8cc38c361cc672611ab0c3306bed91ef',\n",
       "       '0x3f33d1fd27aee4e4ff56ef10ab6280729d187cd159a31cfec0c533174d92415d',\n",
       "       '0x8d4a61bd9db350421e340d6b892f91f59935f1b9a64da4747737e5f859522503',\n",
       "       '0x14c066a9f5cd381b95c82ee3ca4c47e3936a731a1367990e8944fcf528579026'],\n",
       "      dtype='<U66')"
      ]
     },
     "execution_count": 10,
     "metadata": {},
     "output_type": "execute_result"
    }
   ],
   "source": [
    "b['seq_last_rids'][0:10]"
   ]
  },
  {
   "cell_type": "code",
   "execution_count": 11,
   "id": "75f71f1f-8c05-4c9a-8f16-9e4f08c810d4",
   "metadata": {},
   "outputs": [
    {
     "data": {
      "text/plain": [
       "array([[ 0.        ,  0.3931944 , -2.541841  , ...,  0.17998986,\n",
       "         2.1453826 ,  0.37416127],\n",
       "       [ 0.        ,  0.49045253, -1.628636  , ..., -0.22098492,\n",
       "         1.8706552 , -1.213297  ],\n",
       "       [ 0.        ,  1.1743053 , -3.493845  , ..., -1.3110975 ,\n",
       "         3.1819081 , -0.83176506],\n",
       "       ...,\n",
       "       [ 0.        , -0.02754102, -1.0463388 , ...,  2.7947426 ,\n",
       "         2.0592046 , -2.362729  ],\n",
       "       [ 0.        ,  0.45193866, -0.9020668 , ...,  0.82694864,\n",
       "         4.745487  , -2.0084782 ],\n",
       "       [ 0.        ,  1.4116417 ,  0.09941611, ...,  1.1192842 ,\n",
       "         2.6529408 , -2.003558  ]], dtype=float32)"
      ]
     },
     "execution_count": 11,
     "metadata": {},
     "output_type": "execute_result"
    }
   ],
   "source": [
    "b['cls_embeddings'][0:10]"
   ]
  }
 ],
 "metadata": {
  "kernelspec": {
   "display_name": "Python (greena12)",
   "language": "python",
   "name": "greena12"
  },
  "language_info": {
   "codemirror_mode": {
    "name": "ipython",
    "version": 3
   },
   "file_extension": ".py",
   "mimetype": "text/x-python",
   "name": "python",
   "nbconvert_exporter": "python",
   "pygments_lexer": "ipython3",
   "version": "3.10.4"
  }
 },
 "nbformat": 4,
 "nbformat_minor": 5
}
